{
 "cells": [
  {
   "cell_type": "code",
   "execution_count": 2,
   "metadata": {
    "colab": {
     "base_uri": "https://localhost:8080/",
     "height": 258
    },
    "colab_type": "code",
    "id": "3ua1ZrWXeeQe",
    "outputId": "ce36068d-b991-4528-b8f2-54bfae607d4f"
   },
   "outputs": [
    {
     "name": "stdout",
     "output_type": "stream",
     "text": [
      "Collecting chart_studio\n",
      "\u001b[?25l  Downloading https://files.pythonhosted.org/packages/ca/ce/330794a6b6ca4b9182c38fc69dd2a9cbff60fd49421cb8648ee5fee352dc/chart_studio-1.1.0-py3-none-any.whl (64kB)\n",
      "\r",
      "\u001b[K     |█████                           | 10kB 19.3MB/s eta 0:00:01\r",
      "\u001b[K     |██████████▏                     | 20kB 1.8MB/s eta 0:00:01\r",
      "\u001b[K     |███████████████▎                | 30kB 2.4MB/s eta 0:00:01\r",
      "\u001b[K     |████████████████████▍           | 40kB 1.7MB/s eta 0:00:01\r",
      "\u001b[K     |█████████████████████████▍      | 51kB 2.1MB/s eta 0:00:01\r",
      "\u001b[K     |██████████████████████████████▌ | 61kB 2.5MB/s eta 0:00:01\r",
      "\u001b[K     |████████████████████████████████| 71kB 2.3MB/s \n",
      "\u001b[?25hRequirement already satisfied: requests in /usr/local/lib/python3.6/dist-packages (from chart_studio) (2.23.0)\n",
      "Requirement already satisfied: plotly in /usr/local/lib/python3.6/dist-packages (from chart_studio) (4.4.1)\n",
      "Requirement already satisfied: six in /usr/local/lib/python3.6/dist-packages (from chart_studio) (1.12.0)\n",
      "Requirement already satisfied: retrying>=1.3.3 in /usr/local/lib/python3.6/dist-packages (from chart_studio) (1.3.3)\n",
      "Requirement already satisfied: idna<3,>=2.5 in /usr/local/lib/python3.6/dist-packages (from requests->chart_studio) (2.9)\n",
      "Requirement already satisfied: urllib3!=1.25.0,!=1.25.1,<1.26,>=1.21.1 in /usr/local/lib/python3.6/dist-packages (from requests->chart_studio) (1.24.3)\n",
      "Requirement already satisfied: certifi>=2017.4.17 in /usr/local/lib/python3.6/dist-packages (from requests->chart_studio) (2020.4.5.1)\n",
      "Requirement already satisfied: chardet<4,>=3.0.2 in /usr/local/lib/python3.6/dist-packages (from requests->chart_studio) (3.0.4)\n",
      "Installing collected packages: chart-studio\n",
      "Successfully installed chart-studio-1.1.0\n"
     ]
    }
   ],
   "source": [
    "pip install chart_studio"
   ]
  },
  {
   "cell_type": "code",
   "execution_count": 0,
   "metadata": {
    "colab": {},
    "colab_type": "code",
    "id": "algb9nBRO87q"
   },
   "outputs": [],
   "source": [
    "%matplotlib inline\n",
    "import pandas as pd\n",
    "import numpy as np\n",
    "import nltk\n",
    "import string\n",
    "import matplotlib.pyplot as plt\n",
    "import seaborn as sns\n",
    "from sklearn.feature_extraction.text import TfidfTransformer\n",
    "from sklearn.feature_extraction.text import TfidfVectorizer\n",
    "\n",
    "from sklearn.feature_extraction.text import CountVectorizer\n",
    "from sklearn.metrics import confusion_matrix\n",
    "from sklearn import metrics\n",
    "from sklearn.metrics import roc_curve, auc\n",
    "from nltk.stem.porter import PorterStemmer\n",
    "\n",
    "import re\n",
    "# Tutorial about Python regular expressions: https://pymotw.com/2/re/\n",
    "import string\n",
    "from nltk.corpus import stopwords\n",
    "from nltk.stem import PorterStemmer\n",
    "from nltk.stem.wordnet import WordNetLemmatizer\n",
    "\n",
    "from gensim.models import Word2Vec\n",
    "from gensim.models import KeyedVectors\n",
    "import pickle\n",
    "\n",
    "from tqdm import tqdm\n",
    "import os\n",
    "import chart_studio\n",
    "from collections import Counter\n",
    "import os"
   ]
  },
  {
   "cell_type": "code",
   "execution_count": 4,
   "metadata": {
    "colab": {
     "base_uri": "https://localhost:8080/",
     "height": 122
    },
    "colab_type": "code",
    "id": "rJdnjpRHQW17",
    "outputId": "f76c8e0c-8089-4e54-aca8-c6527b184c28"
   },
   "outputs": [
    {
     "name": "stdout",
     "output_type": "stream",
     "text": [
      "Go to this URL in a browser: https://accounts.google.com/o/oauth2/auth?client_id=947318989803-6bn6qk8qdgf4n4g3pfee6491hc0brc4i.apps.googleusercontent.com&redirect_uri=urn%3aietf%3awg%3aoauth%3a2.0%3aoob&response_type=code&scope=email%20https%3a%2f%2fwww.googleapis.com%2fauth%2fdocs.test%20https%3a%2f%2fwww.googleapis.com%2fauth%2fdrive%20https%3a%2f%2fwww.googleapis.com%2fauth%2fdrive.photos.readonly%20https%3a%2f%2fwww.googleapis.com%2fauth%2fpeopleapi.readonly\n",
      "\n",
      "Enter your authorization code:\n",
      "··········\n",
      "Mounted at /content/drive\n"
     ]
    }
   ],
   "source": [
    "from google.colab import drive\n",
    "drive.mount('/content/drive')"
   ]
  },
  {
   "cell_type": "code",
   "execution_count": 0,
   "metadata": {
    "colab": {},
    "colab_type": "code",
    "id": "igGqY9BuQp5-"
   },
   "outputs": [],
   "source": [
    "project_data = pd.read_csv('/content/drive/My Drive/6_Donors_choose_NB/train_data.csv')"
   ]
  },
  {
   "cell_type": "code",
   "execution_count": 6,
   "metadata": {
    "colab": {
     "base_uri": "https://localhost:8080/",
     "height": 513
    },
    "colab_type": "code",
    "id": "rchQ9wp-RJf8",
    "outputId": "b2aec979-7371-46a0-b201-2751bcea28d3"
   },
   "outputs": [
    {
     "data": {
      "text/html": [
       "<div>\n",
       "<style scoped>\n",
       "    .dataframe tbody tr th:only-of-type {\n",
       "        vertical-align: middle;\n",
       "    }\n",
       "\n",
       "    .dataframe tbody tr th {\n",
       "        vertical-align: top;\n",
       "    }\n",
       "\n",
       "    .dataframe thead th {\n",
       "        text-align: right;\n",
       "    }\n",
       "</style>\n",
       "<table border=\"1\" class=\"dataframe\">\n",
       "  <thead>\n",
       "    <tr style=\"text-align: right;\">\n",
       "      <th></th>\n",
       "      <th>Unnamed: 0</th>\n",
       "      <th>id</th>\n",
       "      <th>teacher_id</th>\n",
       "      <th>teacher_prefix</th>\n",
       "      <th>school_state</th>\n",
       "      <th>project_submitted_datetime</th>\n",
       "      <th>project_grade_category</th>\n",
       "      <th>project_subject_categories</th>\n",
       "      <th>project_subject_subcategories</th>\n",
       "      <th>project_title</th>\n",
       "      <th>project_essay_1</th>\n",
       "      <th>project_essay_2</th>\n",
       "      <th>project_essay_3</th>\n",
       "      <th>project_essay_4</th>\n",
       "      <th>project_resource_summary</th>\n",
       "      <th>teacher_number_of_previously_posted_projects</th>\n",
       "      <th>project_is_approved</th>\n",
       "    </tr>\n",
       "  </thead>\n",
       "  <tbody>\n",
       "    <tr>\n",
       "      <th>0</th>\n",
       "      <td>160221</td>\n",
       "      <td>p253737</td>\n",
       "      <td>c90749f5d961ff158d4b4d1e7dc665fc</td>\n",
       "      <td>Mrs.</td>\n",
       "      <td>IN</td>\n",
       "      <td>2016-12-05 13:43:57</td>\n",
       "      <td>Grades PreK-2</td>\n",
       "      <td>Literacy &amp; Language</td>\n",
       "      <td>ESL, Literacy</td>\n",
       "      <td>Educational Support for English Learners at Home</td>\n",
       "      <td>My students are English learners that are work...</td>\n",
       "      <td>\\\"The limits of your language are the limits o...</td>\n",
       "      <td>NaN</td>\n",
       "      <td>NaN</td>\n",
       "      <td>My students need opportunities to practice beg...</td>\n",
       "      <td>0</td>\n",
       "      <td>0</td>\n",
       "    </tr>\n",
       "    <tr>\n",
       "      <th>1</th>\n",
       "      <td>140945</td>\n",
       "      <td>p258326</td>\n",
       "      <td>897464ce9ddc600bced1151f324dd63a</td>\n",
       "      <td>Mr.</td>\n",
       "      <td>FL</td>\n",
       "      <td>2016-10-25 09:22:10</td>\n",
       "      <td>Grades 6-8</td>\n",
       "      <td>History &amp; Civics, Health &amp; Sports</td>\n",
       "      <td>Civics &amp; Government, Team Sports</td>\n",
       "      <td>Wanted: Projector for Hungry Learners</td>\n",
       "      <td>Our students arrive to our school eager to lea...</td>\n",
       "      <td>The projector we need for our school is very c...</td>\n",
       "      <td>NaN</td>\n",
       "      <td>NaN</td>\n",
       "      <td>My students need a projector to help with view...</td>\n",
       "      <td>7</td>\n",
       "      <td>1</td>\n",
       "    </tr>\n",
       "    <tr>\n",
       "      <th>2</th>\n",
       "      <td>21895</td>\n",
       "      <td>p182444</td>\n",
       "      <td>3465aaf82da834c0582ebd0ef8040ca0</td>\n",
       "      <td>Ms.</td>\n",
       "      <td>AZ</td>\n",
       "      <td>2016-08-31 12:03:56</td>\n",
       "      <td>Grades 6-8</td>\n",
       "      <td>Health &amp; Sports</td>\n",
       "      <td>Health &amp; Wellness, Team Sports</td>\n",
       "      <td>Soccer Equipment for AWESOME Middle School Stu...</td>\n",
       "      <td>\\r\\n\\\"True champions aren't always the ones th...</td>\n",
       "      <td>The students on the campus come to school know...</td>\n",
       "      <td>NaN</td>\n",
       "      <td>NaN</td>\n",
       "      <td>My students need shine guards, athletic socks,...</td>\n",
       "      <td>1</td>\n",
       "      <td>0</td>\n",
       "    </tr>\n",
       "    <tr>\n",
       "      <th>3</th>\n",
       "      <td>45</td>\n",
       "      <td>p246581</td>\n",
       "      <td>f3cb9bffbba169bef1a77b243e620b60</td>\n",
       "      <td>Mrs.</td>\n",
       "      <td>KY</td>\n",
       "      <td>2016-10-06 21:16:17</td>\n",
       "      <td>Grades PreK-2</td>\n",
       "      <td>Literacy &amp; Language, Math &amp; Science</td>\n",
       "      <td>Literacy, Mathematics</td>\n",
       "      <td>Techie Kindergarteners</td>\n",
       "      <td>I work at a unique school filled with both ESL...</td>\n",
       "      <td>My students live in high poverty conditions wi...</td>\n",
       "      <td>NaN</td>\n",
       "      <td>NaN</td>\n",
       "      <td>My students need to engage in Reading and Math...</td>\n",
       "      <td>4</td>\n",
       "      <td>1</td>\n",
       "    </tr>\n",
       "    <tr>\n",
       "      <th>4</th>\n",
       "      <td>172407</td>\n",
       "      <td>p104768</td>\n",
       "      <td>be1f7507a41f8479dc06f047086a39ec</td>\n",
       "      <td>Mrs.</td>\n",
       "      <td>TX</td>\n",
       "      <td>2016-07-11 01:10:09</td>\n",
       "      <td>Grades PreK-2</td>\n",
       "      <td>Math &amp; Science</td>\n",
       "      <td>Mathematics</td>\n",
       "      <td>Interactive Math Tools</td>\n",
       "      <td>Our second grade classroom next year will be m...</td>\n",
       "      <td>For many students, math is a subject that does...</td>\n",
       "      <td>NaN</td>\n",
       "      <td>NaN</td>\n",
       "      <td>My students need hands on practice in mathemat...</td>\n",
       "      <td>1</td>\n",
       "      <td>1</td>\n",
       "    </tr>\n",
       "  </tbody>\n",
       "</table>\n",
       "</div>"
      ],
      "text/plain": [
       "   Unnamed: 0  ... project_is_approved\n",
       "0      160221  ...                   0\n",
       "1      140945  ...                   1\n",
       "2       21895  ...                   0\n",
       "3          45  ...                   1\n",
       "4      172407  ...                   1\n",
       "\n",
       "[5 rows x 17 columns]"
      ]
     },
     "execution_count": 6,
     "metadata": {
      "tags": []
     },
     "output_type": "execute_result"
    }
   ],
   "source": [
    "project_data.head(5)"
   ]
  },
  {
   "cell_type": "code",
   "execution_count": 7,
   "metadata": {
    "colab": {
     "base_uri": "https://localhost:8080/",
     "height": 34
    },
    "colab_type": "code",
    "id": "lXRl-hYcSz8d",
    "outputId": "11622427-da22-4f28-c84d-808ebab8a682"
   },
   "outputs": [
    {
     "data": {
      "text/plain": [
       "109248"
      ]
     },
     "execution_count": 7,
     "metadata": {
      "tags": []
     },
     "output_type": "execute_result"
    }
   ],
   "source": [
    "teacher_prefixL=project_data['teacher_prefix'].values\n",
    "teacher_prefixL=list(teacher_prefixL)\n",
    "cleanedteacher_prefixL = [x for x in project_data['teacher_prefix'] if x != float('nan')] ## Cleaning the nan Values in the list -> https://stackoverflow.com/a/50297200/4433839\n",
    "len(cleanedteacher_prefixL)"
   ]
  },
  {
   "cell_type": "code",
   "execution_count": 8,
   "metadata": {
    "colab": {
     "base_uri": "https://localhost:8080/",
     "height": 34
    },
    "colab_type": "code",
    "id": "jBVfpAfcTfz_",
    "outputId": "f4b92d46-3d1a-4434-e6b3-0d3df5471d69"
   },
   "outputs": [
    {
     "data": {
      "text/plain": [
       "(109245, 17)"
      ]
     },
     "execution_count": 8,
     "metadata": {
      "tags": []
     },
     "output_type": "execute_result"
    }
   ],
   "source": [
    "\n",
    "project_data.dropna(subset=['teacher_prefix'], inplace=True)  ##https://stackoverflow.com/a/29314880/4433839\n",
    "project_data.shape #(reduced 3 columns containing nan values)"
   ]
  },
  {
   "cell_type": "markdown",
   "metadata": {
    "colab_type": "text",
    "id": "0izGeOxb1sRm"
   },
   "source": [
    "Data Preprocessing step"
   ]
  },
  {
   "cell_type": "code",
   "execution_count": 0,
   "metadata": {
    "colab": {},
    "colab_type": "code",
    "id": "mPP9EBpNVeug"
   },
   "outputs": [],
   "source": [
    "catogories = list(project_data['project_subject_categories'].values)\n",
    "# remove special characters from list of strings python: https://stackoverflow.com/a/47301924/4084039\n",
    "\n",
    "# https://www.geeksforgeeks.org/removing-stop-words-nltk-python/\n",
    "# https://stackoverflow.com/questions/23669024/how-to-strip-a-specific-word-from-a-string\n",
    "# https://stackoverflow.com/questions/8270092/remove-all-whitespace-in-a-string-in-python\n",
    "cat_list = []\n",
    "for i in catogories:\n",
    "    temp = \"\"\n",
    "    # consider we have text like this \"Math & Science, Warmth, Care & Hunger\"\n",
    "    for j in i.split(','): # it will split it in three parts [\"Math & Science\", \"Warmth\", \"Care & Hunger\"]\n",
    "        if 'The' in j.split(): # this will split each of the catogory based on space \"Math & Science\"=> \"Math\",\"&\", \"Science\"\n",
    "            j=j.replace('The','') # if we have the words \"The\" we are going to replace it with ''(i.e removing 'The')\n",
    "        j = j.replace(' ','') # we are placeing all the ' '(space) with ''(empty) ex:\"Math & Science\"=>\"Math&Science\"\n",
    "        temp+=j.strip()+\" \" #\" abc \".strip() will return \"abc\", remove the trailing spaces\n",
    "        temp = temp.replace('&','_') # we are replacing the & value into \n",
    "    cat_list.append(temp.strip())\n",
    "    \n",
    "project_data['clean_categories'] = cat_list\n",
    "project_data.drop(['project_subject_categories'], axis=1, inplace=True)\n",
    "\n",
    "from collections import Counter\n",
    "my_counter = Counter()\n",
    "for word in project_data['clean_categories'].values:\n",
    "    my_counter.update(word.split())\n",
    "\n",
    "cat_dict = dict(my_counter)\n",
    "sorted_cat_dict = dict(sorted(cat_dict.items(), key=lambda kv: kv[1]))\n"
   ]
  },
  {
   "cell_type": "code",
   "execution_count": 0,
   "metadata": {
    "colab": {},
    "colab_type": "code",
    "id": "GwsLT8ju15N7"
   },
   "outputs": [],
   "source": [
    "sub_catogories = list(project_data['project_subject_subcategories'].values)\n",
    "# remove special characters from list of strings python: https://stackoverflow.com/a/47301924/4084039\n",
    "\n",
    "# https://www.geeksforgeeks.org/removing-stop-words-nltk-python/\n",
    "# https://stackoverflow.com/questions/23669024/how-to-strip-a-specific-word-from-a-string\n",
    "# https://stackoverflow.com/questions/8270092/remove-all-whitespace-in-a-string-in-python\n",
    "\n",
    "sub_cat_list = []\n",
    "for i in sub_catogories:\n",
    "    temp = \"\"\n",
    "    # consider we have text like this \"Math & Science, Warmth, Care & Hunger\"\n",
    "    for j in i.split(','): # it will split it in three parts [\"Math & Science\", \"Warmth\", \"Care & Hunger\"]\n",
    "        if 'The' in j.split(): # this will split each of the catogory based on space \"Math & Science\"=> \"Math\",\"&\", \"Science\"\n",
    "            j=j.replace('The','') # if we have the words \"The\" we are going to replace it with ''(i.e removing 'The')\n",
    "        j = j.replace(' ','') # we are placeing all the ' '(space) with ''(empty) ex:\"Math & Science\"=>\"Math&Science\"\n",
    "        temp +=j.strip()+\" \"#\" abc \".strip() will return \"abc\", remove the trailing spaces\n",
    "        temp = temp.replace('&','_')\n",
    "    sub_cat_list.append(temp.strip())\n",
    "\n",
    "project_data['clean_subcategories'] = sub_cat_list\n",
    "project_data.drop(['project_subject_subcategories'], axis=1, inplace=True)\n",
    "\n",
    "# count of all the words in corpus python: https://stackoverflow.com/a/22898595/4084039\n",
    "my_counter = Counter()\n",
    "for word in project_data['clean_subcategories'].values:\n",
    "    my_counter.update(word.split())\n",
    "    \n",
    "sub_cat_dict = dict(my_counter)\n",
    "sorted_sub_cat_dict = dict(sorted(sub_cat_dict.items(), key=lambda kv: kv[1]))"
   ]
  },
  {
   "cell_type": "code",
   "execution_count": 0,
   "metadata": {
    "colab": {},
    "colab_type": "code",
    "id": "5vyt7NXz2ol4"
   },
   "outputs": [],
   "source": [
    "# this code removes \" \" and \"-\". ie Grades 3-5 -> grage3to5\n",
    "#  remove special characters from list of strings python: https://stackoverflow.com/a/47301924/4084039\n",
    "\n",
    "# https://www.geeksforgeeks.org/removing-stop-words-nltk-python/\n",
    "# https://stackoverflow.com/questions/23669024/how-to-strip-a-specific-word-from-a-string\n",
    "# https://stackoverflow.com/questions/8270092/remove-all-whitespace-in-a-string-in-python\n",
    "clean_grades=[]\n",
    "for project_grade in project_data['project_grade_category'].values:\n",
    "    project_grade=str(project_grade).lower().strip().replace(' ','').replace('-','to')\n",
    "    \n",
    "    clean_grades.append(project_grade.strip())\n",
    "\n",
    "project_data['clean_project_grade_category']=clean_grades\n",
    "project_data.drop(['project_grade_category'],axis=1,inplace=True)\n",
    "\n",
    "my_counter = Counter()\n",
    "for word in project_data['clean_project_grade_category'].values:\n",
    "    my_counter.update(word.split())\n",
    "    \n",
    "grade_dict = dict(my_counter)\n",
    "sorted_project_grade_cat_dict = dict(sorted(grade_dict.items(), key=lambda kv: kv[1]))"
   ]
  },
  {
   "cell_type": "code",
   "execution_count": 0,
   "metadata": {
    "colab": {},
    "colab_type": "code",
    "id": "8LSsYscW2wsG"
   },
   "outputs": [],
   "source": [
    "# merging essays column : text dataframe: \n",
    "project_data[\"essay\"] = project_data[\"project_essay_1\"].map(str) +\\\n",
    "                        project_data[\"project_essay_2\"].map(str) + \\\n",
    "                        project_data[\"project_essay_3\"].map(str) + \\\n",
    "                        project_data[\"project_essay_4\"].map(str)"
   ]
  },
  {
   "cell_type": "code",
   "execution_count": 13,
   "metadata": {
    "colab": {
     "base_uri": "https://localhost:8080/",
     "height": 352
    },
    "colab_type": "code",
    "id": "W96G7fYX24qQ",
    "outputId": "5665c0a2-fefd-45bb-8a12-7a9a4a5a64e5"
   },
   "outputs": [
    {
     "data": {
      "text/html": [
       "<div>\n",
       "<style scoped>\n",
       "    .dataframe tbody tr th:only-of-type {\n",
       "        vertical-align: middle;\n",
       "    }\n",
       "\n",
       "    .dataframe tbody tr th {\n",
       "        vertical-align: top;\n",
       "    }\n",
       "\n",
       "    .dataframe thead th {\n",
       "        text-align: right;\n",
       "    }\n",
       "</style>\n",
       "<table border=\"1\" class=\"dataframe\">\n",
       "  <thead>\n",
       "    <tr style=\"text-align: right;\">\n",
       "      <th></th>\n",
       "      <th>Unnamed: 0</th>\n",
       "      <th>id</th>\n",
       "      <th>teacher_id</th>\n",
       "      <th>teacher_prefix</th>\n",
       "      <th>school_state</th>\n",
       "      <th>project_submitted_datetime</th>\n",
       "      <th>project_title</th>\n",
       "      <th>project_essay_1</th>\n",
       "      <th>project_essay_2</th>\n",
       "      <th>project_essay_3</th>\n",
       "      <th>project_essay_4</th>\n",
       "      <th>project_resource_summary</th>\n",
       "      <th>teacher_number_of_previously_posted_projects</th>\n",
       "      <th>project_is_approved</th>\n",
       "      <th>clean_categories</th>\n",
       "      <th>clean_subcategories</th>\n",
       "      <th>clean_project_grade_category</th>\n",
       "      <th>essay</th>\n",
       "    </tr>\n",
       "  </thead>\n",
       "  <tbody>\n",
       "    <tr>\n",
       "      <th>0</th>\n",
       "      <td>160221</td>\n",
       "      <td>p253737</td>\n",
       "      <td>c90749f5d961ff158d4b4d1e7dc665fc</td>\n",
       "      <td>Mrs.</td>\n",
       "      <td>IN</td>\n",
       "      <td>2016-12-05 13:43:57</td>\n",
       "      <td>Educational Support for English Learners at Home</td>\n",
       "      <td>My students are English learners that are work...</td>\n",
       "      <td>\\\"The limits of your language are the limits o...</td>\n",
       "      <td>NaN</td>\n",
       "      <td>NaN</td>\n",
       "      <td>My students need opportunities to practice beg...</td>\n",
       "      <td>0</td>\n",
       "      <td>0</td>\n",
       "      <td>Literacy_Language</td>\n",
       "      <td>ESL Literacy</td>\n",
       "      <td>gradesprekto2</td>\n",
       "      <td>My students are English learners that are work...</td>\n",
       "    </tr>\n",
       "    <tr>\n",
       "      <th>1</th>\n",
       "      <td>140945</td>\n",
       "      <td>p258326</td>\n",
       "      <td>897464ce9ddc600bced1151f324dd63a</td>\n",
       "      <td>Mr.</td>\n",
       "      <td>FL</td>\n",
       "      <td>2016-10-25 09:22:10</td>\n",
       "      <td>Wanted: Projector for Hungry Learners</td>\n",
       "      <td>Our students arrive to our school eager to lea...</td>\n",
       "      <td>The projector we need for our school is very c...</td>\n",
       "      <td>NaN</td>\n",
       "      <td>NaN</td>\n",
       "      <td>My students need a projector to help with view...</td>\n",
       "      <td>7</td>\n",
       "      <td>1</td>\n",
       "      <td>History_Civics Health_Sports</td>\n",
       "      <td>Civics_Government TeamSports</td>\n",
       "      <td>grades6to8</td>\n",
       "      <td>Our students arrive to our school eager to lea...</td>\n",
       "    </tr>\n",
       "  </tbody>\n",
       "</table>\n",
       "</div>"
      ],
      "text/plain": [
       "   Unnamed: 0  ...                                              essay\n",
       "0      160221  ...  My students are English learners that are work...\n",
       "1      140945  ...  Our students arrive to our school eager to lea...\n",
       "\n",
       "[2 rows x 18 columns]"
      ]
     },
     "execution_count": 13,
     "metadata": {
      "tags": []
     },
     "output_type": "execute_result"
    }
   ],
   "source": [
    "project_data.head(2)"
   ]
  },
  {
   "cell_type": "code",
   "execution_count": 0,
   "metadata": {
    "colab": {},
    "colab_type": "code",
    "id": "IluCP6jE3AWA"
   },
   "outputs": [],
   "source": [
    "# https://stackoverflow.com/a/47091490/4084039\n",
    "import re\n",
    "def decontracted(phrase):\n",
    "    # specific\n",
    "    phrase = re.sub(r\"won't\", \"will not\", phrase)\n",
    "    phrase = re.sub(r\"can\\'t\", \"can not\", phrase)\n",
    "\n",
    "    # general\n",
    "    phrase = re.sub(r\"n\\'t\", \" not\", phrase)\n",
    "    phrase = re.sub(r\"\\'re\", \" are\", phrase)\n",
    "    phrase = re.sub(r\"\\'s\", \" is\", phrase)\n",
    "    phrase = re.sub(r\"\\'d\", \" would\", phrase)\n",
    "    phrase = re.sub(r\"\\'ll\", \" will\", phrase)\n",
    "    phrase = re.sub(r\"\\'t\", \" not\", phrase)\n",
    "    phrase = re.sub(r\"\\'ve\", \" have\", phrase)\n",
    "    phrase = re.sub(r\"\\'m\", \" am\", phrase)\n",
    "    return phrase"
   ]
  },
  {
   "cell_type": "code",
   "execution_count": 0,
   "metadata": {
    "colab": {},
    "colab_type": "code",
    "id": "WnXjOYMv3IPZ"
   },
   "outputs": [],
   "source": [
    "# https://gist.github.com/sebleier/554280\n",
    "# we are removing the words from the stop words list: 'no', 'nor', 'not'\n",
    "stopwords= ['i', 'me', 'my', 'myself', 'we', 'our', 'ours', 'ourselves', 'you', \"you're\", \"you've\",\\\n",
    "            \"you'll\", \"you'd\", 'your', 'yours', 'yourself', 'yourselves', 'he', 'him', 'his', 'himself', \\\n",
    "            'she', \"she's\", 'her', 'hers', 'herself', 'it', \"it's\", 'its', 'itself', 'they', 'them', 'their',\\\n",
    "            'theirs', 'themselves', 'what', 'which', 'who', 'whom', 'this', 'that', \"that'll\", 'these', 'those', \\\n",
    "            'am', 'is', 'are', 'was', 'were', 'be', 'been', 'being', 'have', 'has', 'had', 'having', 'do', 'does', \\\n",
    "            'did', 'doing', 'a', 'an', 'the', 'and', 'but', 'if', 'or', 'because', 'as', 'until', 'while', 'of', \\\n",
    "            'at', 'by', 'for', 'with', 'about', 'against', 'between', 'into', 'through', 'during', 'before', 'after',\\\n",
    "            'above', 'below', 'to', 'from', 'up', 'down', 'in', 'out', 'on', 'off', 'over', 'under', 'again', 'further',\\\n",
    "            'then', 'once', 'here', 'there', 'when', 'where', 'why', 'how', 'all', 'any', 'both', 'each', 'few', 'more',\\\n",
    "            'most', 'other', 'some', 'such', 'only', 'own', 'same', 'so', 'than', 'too', 'very', \\\n",
    "            's', 't', 'can', 'will', 'just', 'don', \"don't\", 'should', \"should've\", 'now', 'd', 'll', 'm', 'o', 're', \\\n",
    "            've', 'y', 'ain', 'aren', \"aren't\", 'couldn', \"couldn't\", 'didn', \"didn't\", 'doesn', \"doesn't\", 'hadn',\\\n",
    "            \"hadn't\", 'hasn', \"hasn't\", 'haven', \"haven't\", 'isn', \"isn't\", 'ma', 'mightn', \"mightn't\", 'mustn',\\\n",
    "            \"mustn't\", 'needn', \"needn't\", 'shan', \"shan't\", 'shouldn', \"shouldn't\", 'wasn', \"wasn't\", 'weren', \"weren't\", \\\n",
    "            'won', \"won't\", 'wouldn', \"wouldn't\"]"
   ]
  },
  {
   "cell_type": "code",
   "execution_count": 16,
   "metadata": {
    "colab": {
     "base_uri": "https://localhost:8080/",
     "height": 34
    },
    "colab_type": "code",
    "id": "vRL8KHDS3Nws",
    "outputId": "6916b7dc-ab1b-4eab-daf8-75167b5afd6b"
   },
   "outputs": [
    {
     "name": "stderr",
     "output_type": "stream",
     "text": [
      "100%|██████████| 109245/109245 [00:58<00:00, 1861.99it/s]\n"
     ]
    }
   ],
   "source": [
    "# removing unwanted symbols , space etc from essay column therby making it more meaningful for our data model\n",
    "from tqdm import tqdm\n",
    "preprocessed_essays = []\n",
    "# tqdm is for printing the status bar\n",
    "for sentance in tqdm(project_data['essay'].values):\n",
    "    sent = decontracted(sentance)\n",
    "    sent = sent.replace('\\\\r', ' ')\n",
    "    sent = sent.replace('\\\\\"', ' ')\n",
    "    sent = sent.replace('\\\\n', ' ')\n",
    "    sent = re.sub('[^A-Za-z0-9]+', ' ', sent)\n",
    "    # https://gist.github.com/sebleier/554280\n",
    "    sent = ' '.join(e for e in sent.split() if e.lower() not in stopwords)\n",
    "    preprocessed_essays.append(sent.lower().strip())"
   ]
  },
  {
   "cell_type": "code",
   "execution_count": 0,
   "metadata": {
    "colab": {},
    "colab_type": "code",
    "id": "5tmxFAa636cY"
   },
   "outputs": [],
   "source": [
    "## adding processed essay and removing unprocessed essay\n",
    "project_data['preprocessed_essays'] = preprocessed_essays\n",
    "project_data.drop(['essay'], axis=1, inplace=True)"
   ]
  },
  {
   "cell_type": "code",
   "execution_count": 18,
   "metadata": {
    "colab": {
     "base_uri": "https://localhost:8080/",
     "height": 54
    },
    "colab_type": "code",
    "id": "VywB9ngg4RFI",
    "outputId": "2a330a8b-de37-4122-bd30-a6c14eaaeae4"
   },
   "outputs": [
    {
     "data": {
      "text/plain": [
       "'students potential world need help acquiring adequate resources facilitate success students always excited energetic engaged music class soak every concept like sponge ask interesting questions never give would love see students able play instruments together compose music fully immersed every facet music e music class addition obvious musical benefits extra resources allow students activities make well rounded individuals overall not music classroom music classroom currently minimal number available resources small budget shared elementary music middle school choir middle school high school band able obtain materials elementary classroom make sure students musically interested literate secondary programs continue grow addition resources classroom k 5 students able challenge not understand concept able apply concept real physical way students able work together make actual music perform level comprehension increase opportunity solidify learned class learn perseverance determination pay opportunity experience something give immediate gratification something bigger students need access resources deserve successful addition using materials class use parent school community performances students proud learned learn good performers good audience members learn evaluate give constructive feedback performances others nannan'"
      ]
     },
     "execution_count": 18,
     "metadata": {
      "tags": []
     },
     "output_type": "execute_result"
    }
   ],
   "source": [
    "preprocessed_essays[50000]"
   ]
  },
  {
   "cell_type": "code",
   "execution_count": 19,
   "metadata": {
    "colab": {
     "base_uri": "https://localhost:8080/",
     "height": 34
    },
    "colab_type": "code",
    "id": "V6p2V1r54d1S",
    "outputId": "022bd4b4-e105-4804-d85a-123cb45534ac"
   },
   "outputs": [
    {
     "name": "stderr",
     "output_type": "stream",
     "text": [
      "100%|██████████| 109245/109245 [00:02<00:00, 43142.06it/s]\n"
     ]
    }
   ],
   "source": [
    "# similarly preprocessing the titles column\n",
    "from tqdm import tqdm\n",
    "preprocessed_titles = []\n",
    "# tqdm is for printing the status bar\n",
    "for sentance in tqdm(project_data['project_title'].values):\n",
    "    sent = decontracted(sentance)\n",
    "    sent = sent.replace('\\\\r', ' ')\n",
    "    sent = sent.replace('\\\\\"', ' ')\n",
    "    sent = sent.replace('\\\\n', ' ')\n",
    "    sent = re.sub('[^A-Za-z0-9]+', ' ', sent)\n",
    "    # https://gist.github.com/sebleier/554280\n",
    "    sent = ' '.join(e for e in sent.split() if e not in stopwords)\n",
    "    preprocessed_titles.append(sent.lower().strip())"
   ]
  },
  {
   "cell_type": "code",
   "execution_count": 0,
   "metadata": {
    "colab": {},
    "colab_type": "code",
    "id": "VeP6qUMr4sIP"
   },
   "outputs": [],
   "source": [
    "project_data['preprocessed_titles'] = preprocessed_titles"
   ]
  },
  {
   "cell_type": "code",
   "execution_count": 21,
   "metadata": {
    "colab": {
     "base_uri": "https://localhost:8080/",
     "height": 170
    },
    "colab_type": "code",
    "id": "RuE8Znh-4yQG",
    "outputId": "27e15b99-f984-4f66-f44c-942c7428ef3d"
   },
   "outputs": [
    {
     "data": {
      "text/plain": [
       "Index(['Unnamed: 0', 'id', 'teacher_id', 'teacher_prefix', 'school_state',\n",
       "       'project_submitted_datetime', 'project_title', 'project_essay_1',\n",
       "       'project_essay_2', 'project_essay_3', 'project_essay_4',\n",
       "       'project_resource_summary',\n",
       "       'teacher_number_of_previously_posted_projects', 'project_is_approved',\n",
       "       'clean_categories', 'clean_subcategories',\n",
       "       'clean_project_grade_category', 'preprocessed_essays',\n",
       "       'preprocessed_titles'],\n",
       "      dtype='object')"
      ]
     },
     "execution_count": 21,
     "metadata": {
      "tags": []
     },
     "output_type": "execute_result"
    }
   ],
   "source": [
    "project_data.columns"
   ]
  },
  {
   "cell_type": "markdown",
   "metadata": {
    "colab_type": "text",
    "id": "NsYzDABo7AFE"
   },
   "source": [
    "Splitting data step"
   ]
  },
  {
   "cell_type": "code",
   "execution_count": 132,
   "metadata": {
    "colab": {
     "base_uri": "https://localhost:8080/",
     "height": 85
    },
    "colab_type": "code",
    "id": "DA2z32Jo5P9l",
    "outputId": "dfc686de-3464-4360-aac5-324b050ca208"
   },
   "outputs": [
    {
     "name": "stdout",
     "output_type": "stream",
     "text": [
      "x_train:  (87396, 23)\n",
      "x_test :  (21849, 23)\n",
      "y_train:  (87396,)\n",
      "y_test :  (21849,)\n"
     ]
    }
   ],
   "source": [
    "#dividing the whole dataset into the ratio of (train:test) = 80:20 \n",
    "from sklearn.model_selection import train_test_split\n",
    "x_train,x_test,y_train,y_test=train_test_split(project_data,project_data['project_is_approved'],test_size=0.2,random_state=42,stratify=project_data[['project_is_approved']])\n",
    "print(\"x_train: \",x_train.shape)\n",
    "print(\"x_test : \",x_test.shape)\n",
    "print(\"y_train: \",y_train.shape)\n",
    "print(\"y_test : \",y_test.shape)"
   ]
  },
  {
   "cell_type": "markdown",
   "metadata": {
    "colab_type": "text",
    "id": "zs-vUnCOF_RZ"
   },
   "source": [
    "Vectorization Step"
   ]
  },
  {
   "cell_type": "code",
   "execution_count": 23,
   "metadata": {
    "colab": {
     "base_uri": "https://localhost:8080/",
     "height": 68
    },
    "colab_type": "code",
    "id": "UdYlLeLu7tf6",
    "outputId": "818ee760-3c05-4c85-cbb0-59c3660e4555"
   },
   "outputs": [
    {
     "name": "stdout",
     "output_type": "stream",
     "text": [
      "['Warmth', 'Care_Hunger', 'History_Civics', 'Music_Arts', 'AppliedLearning', 'SpecialNeeds', 'Health_Sports', 'Math_Science', 'Literacy_Language']\n",
      "Shape of matrix after one hot encoding: x_train:  (87396, 9)\n",
      "Shape of matrix after one hot encoding: x_test :  (21849, 9)\n"
     ]
    }
   ],
   "source": [
    "# using CountVectorizer to convert the features into one hot encoding \n",
    "from sklearn.feature_extraction.text import CountVectorizer\n",
    "vectorizer_sub = CountVectorizer(vocabulary=list(sorted_cat_dict.keys()), lowercase=False, binary=True)\n",
    "vectorizer_sub.fit(x_train['clean_categories'].values)\n",
    "x_train_categories_one_hot = vectorizer_sub.transform(x_train['clean_categories'].values)\n",
    "x_test_categories_one_hot  = vectorizer_sub.transform(x_test['clean_categories'].values)\n",
    "\n",
    "print(vectorizer_sub.get_feature_names())\n",
    "print(\"Shape of matrix after one hot encoding: x_train: \",x_train_categories_one_hot.shape)\n",
    "print(\"Shape of matrix after one hot encoding: x_test : \",x_test_categories_one_hot.shape)"
   ]
  },
  {
   "cell_type": "code",
   "execution_count": 24,
   "metadata": {
    "colab": {
     "base_uri": "https://localhost:8080/",
     "height": 88
    },
    "colab_type": "code",
    "id": "XnptInfgH030",
    "outputId": "455d9b24-b595-40c5-ddf7-e5cdf27391da"
   },
   "outputs": [
    {
     "name": "stdout",
     "output_type": "stream",
     "text": [
      "['Economics', 'CommunityService', 'FinancialLiteracy', 'ParentInvolvement', 'Extracurricular', 'Civics_Government', 'ForeignLanguages', 'NutritionEducation', 'Warmth', 'Care_Hunger', 'SocialSciences', 'PerformingArts', 'CharacterEducation', 'TeamSports', 'Other', 'College_CareerPrep', 'Music', 'History_Geography', 'Health_LifeScience', 'EarlyDevelopment', 'ESL', 'Gym_Fitness', 'EnvironmentalScience', 'VisualArts', 'Health_Wellness', 'AppliedSciences', 'SpecialNeeds', 'Literature_Writing', 'Mathematics', 'Literacy']\n",
      "Shape of matrix after one hot encoding: x_train:  (87396, 30)\n",
      "Shape of matrix after one hot encoding: x_test :  (21849, 30)\n"
     ]
    }
   ],
   "source": [
    "vectorizer_sub_sub = CountVectorizer(vocabulary=list(sorted_sub_cat_dict.keys()), lowercase=False, binary=True)\n",
    "vectorizer_sub_sub.fit(x_train['clean_subcategories'].values)\n",
    "x_train_sub_categories_one_hot = vectorizer_sub_sub.transform(x_train['clean_subcategories'].values)\n",
    "x_test_sub_categories_one_hot  = vectorizer_sub_sub.transform(x_test['clean_subcategories'].values)\n",
    "\n",
    "print(vectorizer_sub_sub.get_feature_names())\n",
    "print(\"Shape of matrix after one hot encoding: x_train: \",x_train_sub_categories_one_hot.shape)\n",
    "print(\"Shape of matrix after one hot encoding: x_test : \",x_test_sub_categories_one_hot.shape)"
   ]
  },
  {
   "cell_type": "code",
   "execution_count": 0,
   "metadata": {
    "colab": {},
    "colab_type": "code",
    "id": "bVIvix9dISjR"
   },
   "outputs": [],
   "source": [
    "my_counter = Counter()\n",
    "for state in project_data['school_state'].values:\n",
    "    my_counter.update(state.split())\n",
    "school_state_cat_dict = dict(my_counter)\n",
    "sorted_school_state_cat_dict = dict(sorted(school_state_cat_dict.items(), key=lambda kv: kv[1]))"
   ]
  },
  {
   "cell_type": "code",
   "execution_count": 26,
   "metadata": {
    "colab": {
     "base_uri": "https://localhost:8080/",
     "height": 88
    },
    "colab_type": "code",
    "id": "r6b6NqI3K0Se",
    "outputId": "fd7435bc-082e-4220-b916-d59e59ffc0b3"
   },
   "outputs": [
    {
     "name": "stdout",
     "output_type": "stream",
     "text": [
      "['AK', 'AL', 'AR', 'AZ', 'CA', 'CO', 'CT', 'DC', 'DE', 'FL', 'GA', 'HI', 'IA', 'ID', 'IL', 'IN', 'KS', 'KY', 'LA', 'MA', 'MD', 'ME', 'MI', 'MN', 'MO', 'MS', 'MT', 'NC', 'ND', 'NE', 'NH', 'NJ', 'NM', 'NV', 'NY', 'OH', 'OK', 'OR', 'PA', 'RI', 'SC', 'SD', 'TN', 'TX', 'UT', 'VA', 'VT', 'WA', 'WI', 'WV', 'WY']\n",
      "Shape of matrix after one hot encoding: x_train:  (87396, 51)\n",
      "Shape of matrix after one hot encoding: x_test :  (21849, 51)\n"
     ]
    }
   ],
   "source": [
    "#https://stackoverflow.com/questions/8955448/save-load-scipy-sparse-csr-matrix-in-portable-data-format\n",
    "from scipy import sparse \n",
    "statelist=list(project_data['school_state'].values)\n",
    "vectorizer_state = CountVectorizer(vocabulary=set(statelist), lowercase=False, binary=True)\n",
    "vectorizer_state.fit(x_train['school_state'])\n",
    "x_train_school_state_one_hot = vectorizer_state.transform(x_train['school_state'].values)\n",
    "x_test_school_state_one_hot  = vectorizer_state.transform(x_test['school_state'].values)\n",
    "\n",
    "print(vectorizer_state.get_feature_names())\n",
    "print(\"Shape of matrix after one hot encoding: x_train: \",x_train_school_state_one_hot.shape)\n",
    "print(\"Shape of matrix after one hot encoding: x_test : \",x_test_school_state_one_hot.shape)"
   ]
  },
  {
   "cell_type": "code",
   "execution_count": 0,
   "metadata": {
    "colab": {},
    "colab_type": "code",
    "id": "vRFnoE0oM4uZ"
   },
   "outputs": [],
   "source": [
    "my_counter = Counter()\n",
    "for teacher_prefix in project_data['teacher_prefix'].values:\n",
    "    teacher_prefix = str(teacher_prefix).lower().replace('.','').strip()\n",
    "    my_counter.update(teacher_prefix.split())\n",
    "\n",
    "teacher_prefix_cat_dict = dict(my_counter)\n",
    "sorted_teacher_prefix_cat_dict = dict(sorted(teacher_prefix_cat_dict.items(), key=lambda kv: kv[1]))"
   ]
  },
  {
   "cell_type": "code",
   "execution_count": 28,
   "metadata": {
    "colab": {
     "base_uri": "https://localhost:8080/",
     "height": 68
    },
    "colab_type": "code",
    "id": "169czon4NkwR",
    "outputId": "351e4c65-00ae-474b-9957-3ac7e4bfe58b"
   },
   "outputs": [
    {
     "name": "stdout",
     "output_type": "stream",
     "text": [
      "['dr', 'teacher', 'mr', 'ms', 'mrs']\n",
      "Shape of matrix after one hot encoding: x_train:  (87396, 5)\n",
      "Shape of matrix after one hot encoding: x_test :  (21849, 5)\n"
     ]
    }
   ],
   "source": [
    "from sklearn.feature_extraction.text import CountVectorizer\n",
    "vectorizer_prefix = CountVectorizer(vocabulary=list(sorted_teacher_prefix_cat_dict.keys()), lowercase=False, binary=True)\n",
    "vectorizer_prefix.fit(x_train['teacher_prefix'].values)\n",
    "x_train_prefix_one_hot = vectorizer_prefix.transform(x_train['teacher_prefix'].values)\n",
    "x_test_prefix_one_hot  = vectorizer_prefix.transform(x_test['teacher_prefix'].values)\n",
    "\n",
    "print(vectorizer_prefix.get_feature_names())\n",
    "print(\"Shape of matrix after one hot encoding: x_train: \",x_train_prefix_one_hot.shape)\n",
    "print(\"Shape of matrix after one hot encoding: x_test : \",x_test_prefix_one_hot.shape)"
   ]
  },
  {
   "cell_type": "code",
   "execution_count": 29,
   "metadata": {
    "colab": {
     "base_uri": "https://localhost:8080/",
     "height": 68
    },
    "colab_type": "code",
    "id": "CBT3_WxTOWkS",
    "outputId": "8bc53ddf-3e6a-4169-df88-c361b611a996"
   },
   "outputs": [
    {
     "name": "stdout",
     "output_type": "stream",
     "text": [
      "['grades9to12', 'grades6to8', 'grades3to5', 'gradesprekto2']\n",
      "Shape of matrix after one hot encoding: x_train :  (87396, 4)\n",
      "Shape of matrix after one hot encoding: x_test  :  (21849, 4)\n"
     ]
    }
   ],
   "source": [
    "from sklearn.feature_extraction.text import CountVectorizer\n",
    "vectorizer_grade = CountVectorizer(vocabulary=list(sorted_project_grade_cat_dict.keys()), lowercase=False, binary=True)\n",
    "vectorizer_grade.fit(x_train['clean_project_grade_category'].values)\n",
    "x_train_grade_category_one_hot = vectorizer_grade.transform(x_train['clean_project_grade_category'].values)\n",
    "x_test_grade_category_one_hot  = vectorizer_grade.transform(x_test['clean_project_grade_category'].values)\n",
    "\n",
    "print(vectorizer_grade.get_feature_names())\n",
    "print(\"Shape of matrix after one hot encoding: x_train : \",x_train_grade_category_one_hot.shape)\n",
    "print(\"Shape of matrix after one hot encoding: x_test  : \",x_test_grade_category_one_hot.shape)\n"
   ]
  },
  {
   "cell_type": "code",
   "execution_count": 30,
   "metadata": {
    "colab": {
     "base_uri": "https://localhost:8080/",
     "height": 136
    },
    "colab_type": "code",
    "id": "B-Qf4GZNQRW9",
    "outputId": "99cfce44-5d80-4f61-b481-d7519947f23e"
   },
   "outputs": [
    {
     "data": {
      "text/plain": [
       "array([[0, 0, 1, 0],\n",
       "       [0, 0, 0, 1],\n",
       "       [0, 0, 0, 1],\n",
       "       ...,\n",
       "       [0, 0, 0, 1],\n",
       "       [0, 0, 0, 1],\n",
       "       [0, 0, 0, 1]])"
      ]
     },
     "execution_count": 30,
     "metadata": {
      "tags": []
     },
     "output_type": "execute_result"
    }
   ],
   "source": [
    "x_train_grade_category_one_hot.toarray()"
   ]
  },
  {
   "cell_type": "code",
   "execution_count": 41,
   "metadata": {
    "colab": {
     "base_uri": "https://localhost:8080/",
     "height": 51
    },
    "colab_type": "code",
    "id": "MtG-veXxQbyr",
    "outputId": "fa599967-e8ea-4625-bad3-f9f2c5e3b750"
   },
   "outputs": [
    {
     "name": "stdout",
     "output_type": "stream",
     "text": [
      "Shape of matrix after normalization: x_train:   (87396, 5)\n",
      "Shape of matrix after normalization: x_test :   (21849, 5)\n"
     ]
    }
   ],
   "source": [
    "from sklearn.preprocessing import StandardScaler\n",
    "from sklearn.preprocessing import Normalizer\n",
    "teacher_previous_proj_normalizer = Normalizer()\n",
    "teacher_previous_proj_normalizer.fit(x_train['teacher_number_of_previously_posted_projects'].values.reshape(1,-1))\n",
    "x_train_teacher_previous_proj_normalized = teacher_previous_proj_normalizer.transform(x_train['teacher_number_of_previously_posted_projects'].values.reshape(1,- 1)).reshape(-1,1)\n",
    "x_test_teacher_previous_proj_normalized  = teacher_previous_proj_normalizer.transform(x_test['teacher_number_of_previously_posted_projects'].values.reshape(1,- 1)).reshape(-1,1)\n",
    "\n",
    "print(\"Shape of matrix after normalization: x_train:  \",x_train_prefix_one_hot.shape)\n",
    "print(\"Shape of matrix after normalization: x_test :  \",x_test_prefix_one_hot.shape)\n"
   ]
  },
  {
   "cell_type": "markdown",
   "metadata": {
    "colab_type": "text",
    "id": "VhBfNtc4TyLe"
   },
   "source": [
    "BOW part"
   ]
  },
  {
   "cell_type": "code",
   "execution_count": 42,
   "metadata": {
    "colab": {
     "base_uri": "https://localhost:8080/",
     "height": 51
    },
    "colab_type": "code",
    "id": "vlJ0DPOjTrOP",
    "outputId": "41ed8e74-e13c-4b58-dcdb-072bd96eed2b"
   },
   "outputs": [
    {
     "name": "stdout",
     "output_type": "stream",
     "text": [
      "Shape of matrix after BOW -> Essays: x_train:  (87396, 147303)\n",
      "Shape of matrix after BOW -> Essays: x_test :  (21849, 147303)\n"
     ]
    }
   ],
   "source": [
    "#https://scikit-learn.org/stable/modules/generated/sklearn.feature_extraction.text.CountVectorizer.html (for converting into bigrams)\n",
    "vectorizer_essay_bow = CountVectorizer(min_df=10,ngram_range=(2, 2))\n",
    "vectorizer_essay_bow.fit(x_train['preprocessed_essays'])\n",
    "x_train_essays_bow = vectorizer_essay_bow.transform(x_train['preprocessed_essays'])\n",
    "x_test_essays_bow  = vectorizer_essay_bow.transform(x_test['preprocessed_essays'])\n",
    "\n",
    "print(\"Shape of matrix after BOW -> Essays: x_train: \",x_train_essays_bow.shape)\n",
    "print(\"Shape of matrix after BOW -> Essays: x_test : \",x_test_essays_bow.shape)"
   ]
  },
  {
   "cell_type": "code",
   "execution_count": 43,
   "metadata": {
    "colab": {
     "base_uri": "https://localhost:8080/",
     "height": 51
    },
    "colab_type": "code",
    "id": "Snd0QonoUNsx",
    "outputId": "7ef2056f-6670-4823-96e2-b6e6ca8e2f99"
   },
   "outputs": [
    {
     "name": "stdout",
     "output_type": "stream",
     "text": [
      "Shape of matrix after BOW -> Title: x_train:  (87396, 3323)\n",
      "Shape of matrix after BOW -> Title: x_test :  (21849, 3323)\n"
     ]
    }
   ],
   "source": [
    "vectorizer_title_bow = CountVectorizer(min_df=10,ngram_range=(2, 2))\n",
    "vectorizer_title_bow.fit(x_train['preprocessed_titles'])\n",
    "x_train_titles_bow = vectorizer_title_bow.transform(x_train['preprocessed_titles'])\n",
    "x_test_titles_bow  = vectorizer_title_bow.transform(x_test['preprocessed_titles'])\n",
    "\n",
    "print(\"Shape of matrix after BOW -> Title: x_train: \",x_train_titles_bow.shape)\n",
    "print(\"Shape of matrix after BOW -> Title: x_test : \",x_test_titles_bow.shape)"
   ]
  },
  {
   "cell_type": "markdown",
   "metadata": {
    "colab_type": "text",
    "id": "7oJ-j5HxUcnS"
   },
   "source": [
    "TF-IDF part"
   ]
  },
  {
   "cell_type": "code",
   "execution_count": 44,
   "metadata": {
    "colab": {
     "base_uri": "https://localhost:8080/",
     "height": 51
    },
    "colab_type": "code",
    "id": "LbxMc__lUZsE",
    "outputId": "f93a8b46-4817-4ce5-d137-b9d484e7ca96"
   },
   "outputs": [
    {
     "name": "stdout",
     "output_type": "stream",
     "text": [
      "Shape of matrix after TF-IDF -> Essay: x_train:  (87396, 147303)\n",
      "Shape of matrix after TF-IDF -> Essay: x_test :  (21849, 147303)\n"
     ]
    }
   ],
   "source": [
    "from sklearn.feature_extraction.text import TfidfVectorizer\n",
    "vectorizer_essay_tfidf = TfidfVectorizer(min_df=10,ngram_range=(2, 2))\n",
    "vectorizer_essay_tfidf.fit(x_train['preprocessed_essays'])\n",
    "x_train_essays_tfidf = vectorizer_essay_tfidf.transform(x_train['preprocessed_essays'])\n",
    "x_test_essays_tfidf  = vectorizer_essay_tfidf.transform(x_test['preprocessed_essays'])\n",
    "\n",
    "print(\"Shape of matrix after TF-IDF -> Essay: x_train: \",x_train_essays_tfidf.shape)\n",
    "print(\"Shape of matrix after TF-IDF -> Essay: x_test : \",x_test_essays_tfidf.shape)"
   ]
  },
  {
   "cell_type": "code",
   "execution_count": 45,
   "metadata": {
    "colab": {
     "base_uri": "https://localhost:8080/",
     "height": 51
    },
    "colab_type": "code",
    "id": "cw8EHaHVUquw",
    "outputId": "511d2d9b-696c-4f11-c5b3-66b6ef9f7490"
   },
   "outputs": [
    {
     "name": "stdout",
     "output_type": "stream",
     "text": [
      "Shape of matrix after TF-IDF -> Title: x_train:  (87396, 3323)\n",
      "Shape of matrix after TF-IDF -> Title: x_test :  (21849, 3323)\n"
     ]
    }
   ],
   "source": [
    "from sklearn.feature_extraction.text import TfidfVectorizer\n",
    "vectorizer_title_tfidf = TfidfVectorizer(min_df=10,ngram_range=(2, 2))\n",
    "vectorizer_title_tfidf.fit(x_train['preprocessed_titles'])\n",
    "x_train_titles_tfidf = vectorizer_title_tfidf.transform(x_train['preprocessed_titles'])\n",
    "x_test_titles_tfidf  = vectorizer_title_tfidf.transform(x_test['preprocessed_titles'])\n",
    "\n",
    "print(\"Shape of matrix after TF-IDF -> Title: x_train: \",x_train_titles_tfidf.shape)\n",
    "print(\"Shape of matrix after TF-IDF -> Title: x_test : \",x_test_titles_tfidf.shape)"
   ]
  },
  {
   "cell_type": "markdown",
   "metadata": {
    "colab_type": "text",
    "id": "kojTA7R4__9c"
   },
   "source": [
    "avg w2v part"
   ]
  },
  {
   "cell_type": "code",
   "execution_count": 0,
   "metadata": {
    "colab": {},
    "colab_type": "code",
    "id": "gRKjIYwWCKNM"
   },
   "outputs": [],
   "source": [
    "with open('/content/drive/My Drive/6_Donors_choose_NB/glove_vectors', 'rb') as f:\n",
    "  model = pickle.load(f)\n",
    "  glove_words = set(model.keys())"
   ]
  },
  {
   "cell_type": "code",
   "execution_count": 48,
   "metadata": {
    "colab": {
     "base_uri": "https://localhost:8080/",
     "height": 102
    },
    "colab_type": "code",
    "id": "72TT8jx_ACmF",
    "outputId": "86dd4575-45ff-42ae-a90b-80a61927c47d"
   },
   "outputs": [
    {
     "name": "stderr",
     "output_type": "stream",
     "text": [
      "100%|██████████| 87396/87396 [00:24<00:00, 3579.47it/s]"
     ]
    },
    {
     "name": "stdout",
     "output_type": "stream",
     "text": [
      "Shape of matrix after w2v -> essay: x_train: \n",
      "87396\n",
      "50\n",
      "==================================================\n"
     ]
    },
    {
     "name": "stderr",
     "output_type": "stream",
     "text": [
      "\n"
     ]
    }
   ],
   "source": [
    "train_w2v_vectors_essays = [] # the avg-w2v for each essay is stored in this list\n",
    "for sentence in tqdm(x_train['preprocessed_essays'].values):# for each essay in training data\n",
    "  vector = np.zeros(50) # as word vectors are of zero length\n",
    "  cnt_words =0; # num of words with a valid vector in the essay\n",
    "  for word in sentence.split():\n",
    "    if word in glove_words:\n",
    "      vector += model[word][:50]\n",
    "      cnt_words += 1\n",
    "  if cnt_words != 0:\n",
    "    vector /= cnt_words\n",
    "  train_w2v_vectors_essays.append(vector)\n",
    "\n",
    "print(\"Shape of matrix after w2v -> essay: x_train: \")\n",
    "print(len(train_w2v_vectors_essays))\n",
    "print(len(train_w2v_vectors_essays[0]))\n",
    "print('='*50)"
   ]
  },
  {
   "cell_type": "code",
   "execution_count": 49,
   "metadata": {
    "colab": {
     "base_uri": "https://localhost:8080/",
     "height": 102
    },
    "colab_type": "code",
    "id": "hdLvjtshC21X",
    "outputId": "eb662bd2-9e84-43b3-cde8-cb8fe659c993"
   },
   "outputs": [
    {
     "name": "stderr",
     "output_type": "stream",
     "text": [
      "100%|██████████| 21849/21849 [00:06<00:00, 3609.38it/s]"
     ]
    },
    {
     "name": "stdout",
     "output_type": "stream",
     "text": [
      "Shape of matrix after avg w2v -> essay: x_test: \n",
      "21849\n",
      "50\n",
      "==================================================\n"
     ]
    },
    {
     "name": "stderr",
     "output_type": "stream",
     "text": [
      "\n"
     ]
    }
   ],
   "source": [
    "test_w2v_vectors_essays = [] # the avg-w2v for each essay is stored in this list\n",
    "for sentence in tqdm(x_test['preprocessed_essays'].values):# for each essay in training data\n",
    "  vector = np.zeros(50) # as word vectors are of zero length\n",
    "  cnt_words =0; # num of words with a valid vector in the essay\n",
    "  for word in sentence.split():\n",
    "    if word in glove_words:\n",
    "      vector += model[word][:50]\n",
    "      cnt_words += 1\n",
    "  if cnt_words != 0:\n",
    "    vector /= cnt_words\n",
    "  test_w2v_vectors_essays.append(vector)\n",
    "\n",
    "print(\"Shape of matrix after avg w2v -> essay: x_test: \")\n",
    "print(len(test_w2v_vectors_essays))\n",
    "print(len(test_w2v_vectors_essays[0]))\n",
    "print('='*50)"
   ]
  },
  {
   "cell_type": "code",
   "execution_count": 51,
   "metadata": {
    "colab": {
     "base_uri": "https://localhost:8080/",
     "height": 102
    },
    "colab_type": "code",
    "id": "K4Ca70srEwT1",
    "outputId": "dd697613-95c0-4c1e-d1a2-9dd15ca85f08"
   },
   "outputs": [
    {
     "name": "stderr",
     "output_type": "stream",
     "text": [
      "100%|██████████| 87396/87396 [00:01<00:00, 76380.65it/s]"
     ]
    },
    {
     "name": "stdout",
     "output_type": "stream",
     "text": [
      "Shape of matrix after w2v -> title: x_train: \n",
      "87396\n",
      "50\n",
      "==================================================\n"
     ]
    },
    {
     "name": "stderr",
     "output_type": "stream",
     "text": [
      "\n"
     ]
    }
   ],
   "source": [
    "train_w2v_vectors_titles = [] # the avg-w2v for each essay is stored in this list\n",
    "for sentence in tqdm(x_train['preprocessed_titles'].values):# for each essay in training data\n",
    "  vector = np.zeros(50) # as word vectors are of zero length\n",
    "  cnt_words =0; # num of words with a valid vector in the essay\n",
    "  for word in sentence.split():\n",
    "    if word in glove_words:\n",
    "      vector += model[word][:50]\n",
    "      cnt_words += 1\n",
    "  if cnt_words != 0:\n",
    "    vector /= cnt_words\n",
    "  train_w2v_vectors_titles.append(vector)\n",
    "\n",
    "print(\"Shape of matrix after w2v -> title: x_train: \")\n",
    "print(len(train_w2v_vectors_titles))\n",
    "print(len(train_w2v_vectors_titles[0]))\n",
    "print('='*50)"
   ]
  },
  {
   "cell_type": "code",
   "execution_count": 52,
   "metadata": {
    "colab": {
     "base_uri": "https://localhost:8080/",
     "height": 102
    },
    "colab_type": "code",
    "id": "uQCGzVx4EvIv",
    "outputId": "f91a670b-25d8-4188-b585-ee596c418476"
   },
   "outputs": [
    {
     "name": "stderr",
     "output_type": "stream",
     "text": [
      "100%|██████████| 21849/21849 [00:00<00:00, 76801.33it/s]"
     ]
    },
    {
     "name": "stdout",
     "output_type": "stream",
     "text": [
      "Shape of matrix after avg w2v -> title: x_test: \n",
      "21849\n",
      "50\n",
      "==================================================\n"
     ]
    },
    {
     "name": "stderr",
     "output_type": "stream",
     "text": [
      "\n"
     ]
    }
   ],
   "source": [
    "test_w2v_vectors_titles = [] # the avg-w2v for each essay is stored in this list\n",
    "for sentence in tqdm(x_test['preprocessed_titles'].values):# for each essay in training data\n",
    "  vector = np.zeros(50) # as word vectors are of zero length\n",
    "  cnt_words =0; # num of words with a valid vector in the essay\n",
    "  for word in sentence.split():\n",
    "    if word in glove_words:\n",
    "      vector += model[word][:50]\n",
    "      cnt_words += 1\n",
    "  if cnt_words != 0:\n",
    "    vector /= cnt_words\n",
    "  test_w2v_vectors_titles.append(vector)\n",
    "\n",
    "print(\"Shape of matrix after avg w2v -> title: x_test: \")\n",
    "print(len(test_w2v_vectors_titles))\n",
    "print(len(test_w2v_vectors_titles[0]))\n",
    "print('='*50)"
   ]
  },
  {
   "cell_type": "markdown",
   "metadata": {
    "colab_type": "text",
    "id": "3GBiOTrxADXO"
   },
   "source": [
    "TF-IDF W2V part"
   ]
  },
  {
   "cell_type": "code",
   "execution_count": 53,
   "metadata": {
    "colab": {
     "base_uri": "https://localhost:8080/",
     "height": 102
    },
    "colab_type": "code",
    "id": "CRQ8qN_jASRP",
    "outputId": "699d6170-902b-4e96-9eb7-90c17124c785"
   },
   "outputs": [
    {
     "name": "stderr",
     "output_type": "stream",
     "text": [
      "100%|██████████| 87396/87396 [02:28<00:00, 588.37it/s]"
     ]
    },
    {
     "name": "stdout",
     "output_type": "stream",
     "text": [
      "Train matrix:\n",
      "87396\n",
      "50\n",
      "==================================================\n"
     ]
    },
    {
     "name": "stderr",
     "output_type": "stream",
     "text": [
      "\n"
     ]
    }
   ],
   "source": [
    "tfidf_model = TfidfVectorizer()\n",
    "tfidf_model.fit(x_train['preprocessed_essays'].values)\n",
    "dictionary = dict(zip(tfidf_model.get_feature_names(), list(tfidf_model.idf_)))\n",
    "tfidf_words = set(tfidf_model.get_feature_names())\n",
    "train_tfidf_w2v_essays = []; # the avg-w2v for each sentence/review is stored in this list\n",
    "for sentence in tqdm(x_train['preprocessed_essays'].values):\n",
    "  vector = np.zeros(50) # as word vectors are of zero length\n",
    "  tf_idf_weight =0; # num of words with a valid vector in the sentence/review\n",
    "  for word in sentence.split():\n",
    "    if (word in glove_words) and (word in tfidf_words):\n",
    "      vec = model[word][:50]\n",
    "      tf_idf = dictionary[word]*(sentence.count(word)/len(sentence.split()))\n",
    "      vector += (vec * tf_idf)\n",
    "      tf_idf_weight += tf_idf\n",
    "  if tf_idf_weight != 0:\n",
    "    vector /= tf_idf_weight\n",
    "  train_tfidf_w2v_essays.append(vector)\n",
    "\n",
    "print(\"Train matrix:\")\n",
    "print(len(train_tfidf_w2v_essays))\n",
    "print(len(train_tfidf_w2v_essays[0]))\n",
    "print('='*50)"
   ]
  },
  {
   "cell_type": "code",
   "execution_count": 54,
   "metadata": {
    "colab": {
     "base_uri": "https://localhost:8080/",
     "height": 102
    },
    "colab_type": "code",
    "id": "QxAg4cRRFrcw",
    "outputId": "0f1ae299-bad5-40d6-b1b0-f79601348a75"
   },
   "outputs": [
    {
     "name": "stderr",
     "output_type": "stream",
     "text": [
      "100%|██████████| 21849/21849 [00:36<00:00, 590.73it/s]"
     ]
    },
    {
     "name": "stdout",
     "output_type": "stream",
     "text": [
      "Test matrix:\n",
      "21849\n",
      "50\n",
      "==================================================\n"
     ]
    },
    {
     "name": "stderr",
     "output_type": "stream",
     "text": [
      "\n"
     ]
    }
   ],
   "source": [
    "tfidf_model = TfidfVectorizer()\n",
    "tfidf_model.fit(x_test['preprocessed_essays'].values)\n",
    "dictionary = dict(zip(tfidf_model.get_feature_names(), list(tfidf_model.idf_)))\n",
    "tfidf_words = set(tfidf_model.get_feature_names())\n",
    "test_tfidf_w2v_essays = []; # the avg-w2v for each sentence/review is stored in this list\n",
    "for sentence in tqdm(x_test['preprocessed_essays'].values):\n",
    "  vector = np.zeros(50) # as word vectors are of zero length\n",
    "  tf_idf_weight =0; # num of words with a valid vector in the sentence/review\n",
    "  for word in sentence.split():\n",
    "    if (word in glove_words) and (word in tfidf_words):\n",
    "      vec = model[word][:50]\n",
    "      tf_idf = dictionary[word]*(sentence.count(word)/len(sentence.split()))\n",
    "      vector += (vec * tf_idf)\n",
    "      tf_idf_weight += tf_idf\n",
    "  if tf_idf_weight != 0:\n",
    "    vector /= tf_idf_weight\n",
    "  test_tfidf_w2v_essays.append(vector)\n",
    "\n",
    "print(\"Test matrix:\")\n",
    "print(len(test_tfidf_w2v_essays))\n",
    "print(len(test_tfidf_w2v_essays[0]))\n",
    "print('='*50)"
   ]
  },
  {
   "cell_type": "code",
   "execution_count": 55,
   "metadata": {
    "colab": {
     "base_uri": "https://localhost:8080/",
     "height": 102
    },
    "colab_type": "code",
    "id": "OcC5kGikFyG5",
    "outputId": "c36db028-c274-45fc-bfd3-542b2ee6cb85"
   },
   "outputs": [
    {
     "name": "stderr",
     "output_type": "stream",
     "text": [
      "100%|██████████| 87396/87396 [00:02<00:00, 36351.62it/s]"
     ]
    },
    {
     "name": "stdout",
     "output_type": "stream",
     "text": [
      "Train matrix:\n",
      "87396\n",
      "50\n",
      "==================================================\n"
     ]
    },
    {
     "name": "stderr",
     "output_type": "stream",
     "text": [
      "\n"
     ]
    }
   ],
   "source": [
    "tfidf_model = TfidfVectorizer()\n",
    "tfidf_model.fit(x_train['preprocessed_titles'].values)\n",
    "dictionary = dict(zip(tfidf_model.get_feature_names(), list(tfidf_model.idf_)))\n",
    "tfidf_words = set(tfidf_model.get_feature_names())\n",
    "train_tfidf_w2v_titles = []; # the avg-w2v for each sentence/review is stored in this list\n",
    "for sentence in tqdm(x_train['preprocessed_titles'].values):\n",
    "  vector = np.zeros(50) # as word vectors are of zero length\n",
    "  tf_idf_weight =0; # num of words with a valid vector in the sentence/review\n",
    "  for word in sentence.split():\n",
    "    if (word in glove_words) and (word in tfidf_words):\n",
    "      vec = model[word][:50]\n",
    "      tf_idf = dictionary[word]*(sentence.count(word)/len(sentence.split()))\n",
    "      vector += (vec * tf_idf)\n",
    "      tf_idf_weight += tf_idf\n",
    "  if tf_idf_weight != 0:\n",
    "    vector /= tf_idf_weight\n",
    "  train_tfidf_w2v_titles.append(vector)\n",
    "\n",
    "print(\"Train matrix:\")\n",
    "print(len(train_tfidf_w2v_titles))\n",
    "print(len(train_tfidf_w2v_titles[0]))\n",
    "print('='*50)"
   ]
  },
  {
   "cell_type": "code",
   "execution_count": 56,
   "metadata": {
    "colab": {
     "base_uri": "https://localhost:8080/",
     "height": 102
    },
    "colab_type": "code",
    "id": "rSN9dbrwFzci",
    "outputId": "ed5f4f98-a23e-4fe7-dc17-c6fabf957da3"
   },
   "outputs": [
    {
     "name": "stderr",
     "output_type": "stream",
     "text": [
      "100%|██████████| 21849/21849 [00:00<00:00, 35944.89it/s]"
     ]
    },
    {
     "name": "stdout",
     "output_type": "stream",
     "text": [
      "Test matrix:\n",
      "21849\n",
      "50\n",
      "==================================================\n"
     ]
    },
    {
     "name": "stderr",
     "output_type": "stream",
     "text": [
      "\n"
     ]
    }
   ],
   "source": [
    "tfidf_model = TfidfVectorizer()\n",
    "tfidf_model.fit(x_test['preprocessed_titles'].values)\n",
    "dictionary = dict(zip(tfidf_model.get_feature_names(), list(tfidf_model.idf_)))\n",
    "tfidf_words = set(tfidf_model.get_feature_names())\n",
    "test_tfidf_w2v_titles = []; # the avg-w2v for each sentence/review is stored in this list\n",
    "for sentence in tqdm(x_test['preprocessed_titles'].values):\n",
    "  vector = np.zeros(50) # as word vectors are of zero length\n",
    "  tf_idf_weight =0; # num of words with a valid vector in the sentence/review\n",
    "  for word in sentence.split():\n",
    "    if (word in glove_words) and (word in tfidf_words):\n",
    "      vec = model[word][:50]\n",
    "      tf_idf = dictionary[word]*(sentence.count(word)/len(sentence.split()))\n",
    "      vector += (vec * tf_idf)\n",
    "      tf_idf_weight += tf_idf\n",
    "  if tf_idf_weight != 0:\n",
    "    vector /= tf_idf_weight\n",
    "  test_tfidf_w2v_titles.append(vector)\n",
    "\n",
    "print(\"Test matrix:\")\n",
    "print(len(test_tfidf_w2v_titles))\n",
    "print(len(test_tfidf_w2v_titles[0]))\n",
    "print('='*50)"
   ]
  },
  {
   "cell_type": "markdown",
   "metadata": {
    "colab_type": "text",
    "id": "BBS5SvoPU8PW"
   },
   "source": [
    "Merging all the one hot encoded features : will be used with BOW ,TF-IDF , avg W2V and TF-IDF W2V"
   ]
  },
  {
   "cell_type": "code",
   "execution_count": 57,
   "metadata": {
    "colab": {
     "base_uri": "https://localhost:8080/",
     "height": 51
    },
    "colab_type": "code",
    "id": "nC2SVEDIU4YG",
    "outputId": "4c4e035a-97c0-41f2-9904-a5d77f29354f"
   },
   "outputs": [
    {
     "name": "stdout",
     "output_type": "stream",
     "text": [
      "Shape -> One Hot -> x_train:  (87396, 100)\n",
      "Shape -> One Hot -> x_test :  (21849, 100)\n"
     ]
    }
   ],
   "source": [
    "from scipy.sparse import hstack\n",
    "x_train_onehot = hstack((x_train_categories_one_hot, x_train_sub_categories_one_hot, x_train_school_state_one_hot, x_train_prefix_one_hot, x_train_grade_category_one_hot, x_train_teacher_previous_proj_normalized))\n",
    "x_test_onehot  = hstack((x_test_categories_one_hot, x_test_sub_categories_one_hot, x_test_school_state_one_hot, x_test_prefix_one_hot, x_test_grade_category_one_hot, x_test_teacher_previous_proj_normalized))\n",
    "\n",
    "print(\"Shape -> One Hot -> x_train: \",x_train_onehot.shape)\n",
    "print(\"Shape -> One Hot -> x_test : \",x_test_onehot.shape)"
   ]
  },
  {
   "cell_type": "markdown",
   "metadata": {
    "colab_type": "text",
    "id": "NIRM69iIV4Bk"
   },
   "source": [
    "One hot encoded + BOW"
   ]
  },
  {
   "cell_type": "code",
   "execution_count": 58,
   "metadata": {
    "colab": {
     "base_uri": "https://localhost:8080/",
     "height": 51
    },
    "colab_type": "code",
    "id": "ye-EA3QbVkZe",
    "outputId": "122b9f89-378f-4e1e-84c7-b509647cee1d"
   },
   "outputs": [
    {
     "name": "stdout",
     "output_type": "stream",
     "text": [
      "Shape -> One Hot BOW -> x_train_cv_test:  (87396, 150726)\n",
      "Shape -> One Hot BOW -> x_test         :  (21849, 150726)\n"
     ]
    }
   ],
   "source": [
    "x_train_onehot_bow = hstack((x_train_onehot,x_train_titles_bow,x_train_essays_bow)).tocsr()### Merging all ONE HOT features\n",
    "x_test_onehot_bow  = hstack((x_test_onehot, x_test_titles_bow, x_test_essays_bow)).tocsr()### Merging all ONE HOT features\n",
    "\n",
    "print(\"Shape -> One Hot BOW -> x_train_cv_test: \",x_train_onehot_bow.shape)\n",
    "print(\"Shape -> One Hot BOW -> x_test         : \",x_test_onehot_bow.shape)"
   ]
  },
  {
   "cell_type": "markdown",
   "metadata": {
    "colab_type": "text",
    "id": "06zzrUb6WQQV"
   },
   "source": [
    "One hot encoded + TF-IDF"
   ]
  },
  {
   "cell_type": "code",
   "execution_count": 59,
   "metadata": {
    "colab": {
     "base_uri": "https://localhost:8080/",
     "height": 51
    },
    "colab_type": "code",
    "id": "QYjB_3OGWL9m",
    "outputId": "f4f783d1-024c-482a-c6c1-a9340e831109"
   },
   "outputs": [
    {
     "name": "stdout",
     "output_type": "stream",
     "text": [
      "Shape -> One Hot TFIDF -> x_train_cv_test:  (87396, 150726)\n",
      "Shape -> One Hot TFIDF -> x_test         :  (21849, 150726)\n"
     ]
    }
   ],
   "source": [
    "x_train_onehot_tfidf = hstack((x_train_onehot,x_train_titles_tfidf, x_train_essays_tfidf)).tocsr()\n",
    "x_test_onehot_tfidf  = hstack((x_test_onehot,x_test_titles_tfidf, x_test_essays_tfidf)).tocsr()\n",
    "\n",
    "print(\"Shape -> One Hot TFIDF -> x_train_cv_test: \",x_train_onehot_tfidf.shape)\n",
    "print(\"Shape -> One Hot TFIDF -> x_test         : \",x_test_onehot_tfidf.shape)"
   ]
  },
  {
   "cell_type": "markdown",
   "metadata": {
    "colab_type": "text",
    "id": "XwR4ACtlk7L6"
   },
   "source": [
    "One hot encoded + avg w2v"
   ]
  },
  {
   "cell_type": "code",
   "execution_count": 60,
   "metadata": {
    "colab": {
     "base_uri": "https://localhost:8080/",
     "height": 51
    },
    "colab_type": "code",
    "id": "AdM3yOUlk6Mb",
    "outputId": "7acf6164-3217-4bf8-e5ff-583340660253"
   },
   "outputs": [
    {
     "name": "stdout",
     "output_type": "stream",
     "text": [
      "Shape -> One Hot avgw2v -> x_train      :  (87396, 200)\n",
      "Shape -> One Hot avgw2v -> x_test         :  (21849, 200)\n"
     ]
    }
   ],
   "source": [
    "x_train_onehot_avgw2v = hstack((x_train_onehot,train_w2v_vectors_titles, train_w2v_vectors_essays)).tocsr()\n",
    "x_test_onehot_avgw2v  = hstack((x_test_onehot,test_w2v_vectors_titles, test_w2v_vectors_essays)).tocsr()\n",
    "\n",
    "print(\"Shape -> One Hot avgw2v -> x_train      : \",x_train_onehot_avgw2v.shape)\n",
    "print(\"Shape -> One Hot avgw2v -> x_test         : \",x_test_onehot_avgw2v.shape)"
   ]
  },
  {
   "cell_type": "markdown",
   "metadata": {
    "colab_type": "text",
    "id": "tuuO-i6Y6q_2"
   },
   "source": [
    "One hot encoded + tfidf w2v"
   ]
  },
  {
   "cell_type": "code",
   "execution_count": 61,
   "metadata": {
    "colab": {
     "base_uri": "https://localhost:8080/",
     "height": 51
    },
    "colab_type": "code",
    "id": "-K9QzaUOk52V",
    "outputId": "95dac0ae-259a-469d-dc8f-6dd9f8b0ffe1"
   },
   "outputs": [
    {
     "name": "stdout",
     "output_type": "stream",
     "text": [
      "Shape -> One Hot TFIDF -> x_train        :  (87396, 200)\n",
      "Shape -> One Hot TFIDF -> x_test         :  (21849, 200)\n"
     ]
    }
   ],
   "source": [
    "x_train_onehot_tfidfw2v = hstack((x_train_onehot,train_tfidf_w2v_titles, train_tfidf_w2v_essays)).tocsr()\n",
    "x_test_onehot_tfidfw2v  = hstack((x_test_onehot,test_tfidf_w2v_titles, test_tfidf_w2v_essays)).tocsr()\n",
    "\n",
    "print(\"Shape -> One Hot TFIDF -> x_train        : \",x_train_onehot_tfidfw2v.shape)\n",
    "print(\"Shape -> One Hot TFIDF -> x_test         : \",x_test_onehot_tfidfw2v.shape)"
   ]
  },
  {
   "cell_type": "markdown",
   "metadata": {
    "colab_type": "text",
    "id": "BFZVmFd9W2LN"
   },
   "source": [
    "Applying Logestic Regression on BOW and using gridsearchcv to find best hyperparameter"
   ]
  },
  {
   "cell_type": "code",
   "execution_count": 69,
   "metadata": {
    "colab": {
     "base_uri": "https://localhost:8080/",
     "height": 85
    },
    "colab_type": "code",
    "id": "OZ4SUecoWoZo",
    "outputId": "056b6ec3-7857-4f72-b21d-075fad98a0b1"
   },
   "outputs": [
    {
     "name": "stdout",
     "output_type": "stream",
     "text": [
      "Fitting 10 folds for each of 20 candidates, totalling 200 fits\n"
     ]
    },
    {
     "name": "stderr",
     "output_type": "stream",
     "text": [
      "[Parallel(n_jobs=1)]: Using backend SequentialBackend with 1 concurrent workers.\n",
      "[Parallel(n_jobs=1)]: Done 200 out of 200 | elapsed:  2.2min finished\n"
     ]
    },
    {
     "name": "stdout",
     "output_type": "stream",
     "text": [
      "Best alpha:  0.001  BEST SCORE:  0.6868378180050668\n"
     ]
    }
   ],
   "source": [
    "from sklearn.model_selection import GridSearchCV\n",
    "import matplotlib.pyplot as plt\n",
    "from sklearn.linear_model import SGDClassifier\n",
    "from sklearn.metrics import roc_auc_score, auc\n",
    "import math\n",
    "\n",
    "lor = SGDClassifier(loss=\"log\")\n",
    "parameters = {'alpha':[0.00001, 0.00005, 0.0001, 0.0005, 0.001, 0.005, 0.01, 0.05, 0.1, 0.5, 1, 5, 10, 50, 100, 500, 1000, 2500, 5000, 10000]}\n",
    "clf = GridSearchCV(lor, parameters, cv= 10, scoring='roc_auc',verbose=1,return_train_score=True)\n",
    "clf.fit(x_train_onehot_bow,y_train)\n",
    "train_auc= clf.cv_results_['mean_train_score']\n",
    "train_auc_std= clf.cv_results_['std_train_score']\n",
    "cv_auc = clf.cv_results_['mean_test_score']\n",
    "cv_auc_std= clf.cv_results_['std_test_score']\n",
    "bestAlpha_1=clf.best_params_['alpha']\n",
    "bestScore_1=clf.best_score_\n",
    "print(\"Best alpha: \",clf.best_params_['alpha'],\" BEST SCORE: \",clf.best_score_)"
   ]
  },
  {
   "cell_type": "code",
   "execution_count": 72,
   "metadata": {
    "colab": {
     "base_uri": "https://localhost:8080/",
     "height": 350
    },
    "colab_type": "code",
    "id": "WQ3v0oSnaz0S",
    "outputId": "77aa943a-0f77-4147-dc0d-009a0e782766"
   },
   "outputs": [
    {
     "data": {
      "image/png": "[encoded data removed]",
      "text/plain": [
       "<Figure size 720x360 with 1 Axes>"
      ]
     },
     "metadata": {
      "needs_background": "light",
      "tags": []
     },
     "output_type": "display_data"
    }
   ],
   "source": [
    "alphas = [0.00001, 0.00005, 0.0001, 0.0005, 0.001, 0.002, 0.003, 0.005, 0.006, 0.007, 0.008, 0.009, 0.010, 0.02, 0.03, 0.04, 0.05, 0.06, 0.07, 0.08]\n",
    "plt.figure(figsize=(10,5))\n",
    "plt.plot(alphas, train_auc, label='Train AUC')\n",
    "plt.gca().fill_between(alphas,train_auc - train_auc_std,train_auc + train_auc_std,alpha=0.3,color='darkblue')\n",
    "plt.plot(alphas, cv_auc, label='CV AUC')\n",
    "plt.gca().fill_between(alphas,cv_auc - cv_auc_std,cv_auc + cv_auc_std,alpha=0.3,color='darkorange')\n",
    "plt.scatter(alphas, train_auc, label='Train AUC points')\n",
    "plt.scatter(alphas, cv_auc, label='CV AUC points')\n",
    "plt.legend()\n",
    "plt.xlabel(\"alpha: hyperparameter\")\n",
    "plt.ylabel(\"AUC\")\n",
    "plt.title(\"alpha: hyperparameter v/s AUC\")\n",
    "plt.grid()\n",
    "plt.show()"
   ]
  },
  {
   "cell_type": "markdown",
   "metadata": {
    "colab_type": "text",
    "id": "jKHz3nFDbbNy"
   },
   "source": [
    "Testing the model with best hyperparameter alpha\n",
    "\n"
   ]
  },
  {
   "cell_type": "code",
   "execution_count": 76,
   "metadata": {
    "colab": {
     "base_uri": "https://localhost:8080/",
     "height": 295
    },
    "colab_type": "code",
    "id": "LY2zBJTDbTSR",
    "outputId": "e66403a5-f129-400e-9ab7-78086ca6fd49"
   },
   "outputs": [
    {
     "data": {
      "image/png": "[encoded data removed]",
      "text/plain": [
       "<Figure size 432x288 with 1 Axes>"
      ]
     },
     "metadata": {
      "needs_background": "light",
      "tags": []
     },
     "output_type": "display_data"
    }
   ],
   "source": [
    "from sklearn.metrics import roc_curve, auc\n",
    "\n",
    "lor = SGDClassifier(alpha=bestAlpha_1,loss=\"log\")\n",
    "lor.fit(x_train_onehot_bow, y_train)\n",
    "y_train_pred=lor.predict_proba(x_train_onehot_bow)[:,1]\n",
    "y_test_pred=lor.predict_proba(x_test_onehot_bow)[:,1]\n",
    "train_fpr, train_tpr, tr_thresholds = roc_curve(y_train, y_train_pred)\n",
    "test_fpr, test_tpr, te_thresholds = roc_curve(y_test, y_test_pred)\n",
    "ax = plt.subplot()\n",
    "auc_set1_train=auc(train_fpr, train_tpr)\n",
    "auc_set1_test=auc(test_fpr, test_tpr)\n",
    "ax.plot(train_fpr, train_tpr, label=\"Train AUC =\"+str(auc(train_fpr, train_tpr)))\n",
    "ax.plot(test_fpr, test_tpr, label=\"Test AUC =\"+str(auc(test_fpr, test_tpr)))\n",
    "plt.legend()\n",
    "plt.xlabel(\"False Positive Rate(FPR)\")\n",
    "plt.ylabel(\"True Positive Rate(TPR)\")\n",
    "plt.title(\"AUC\")\n",
    "plt.grid(b=True, which='major', color='k', linestyle=':')\n",
    "ax.set_facecolor(\"white\")\n",
    "plt.show()"
   ]
  },
  {
   "cell_type": "markdown",
   "metadata": {
    "colab_type": "text",
    "id": "7BJBgICqc5V6"
   },
   "source": [
    "Confusion Matrix"
   ]
  },
  {
   "cell_type": "code",
   "execution_count": 0,
   "metadata": {
    "colab": {},
    "colab_type": "code",
    "id": "tdti54qxdHOA"
   },
   "outputs": [],
   "source": [
    "## confusion matrix of training data\n",
    "def predict(proba, threshould, fpr, tpr):\n",
    "    t = threshould[np.argmax(tpr*(1-fpr))]\n",
    "    print(\"the maximum value of tpr*(1-fpr)\", max(tpr*(1-fpr)), \"for threshold\", np.round(t,3))\n",
    "    predictions = []\n",
    "    for i in proba:\n",
    "        if i>=t:\n",
    "            predictions.append(1)\n",
    "        else:\n",
    "            predictions.append(0)\n",
    "    return predictions"
   ]
  },
  {
   "cell_type": "code",
   "execution_count": 78,
   "metadata": {
    "colab": {
     "base_uri": "https://localhost:8080/",
     "height": 376
    },
    "colab_type": "code",
    "id": "aC0u1cC4d0HW",
    "outputId": "60e172e3-a187-43f2-cd1b-18117a95387e"
   },
   "outputs": [
    {
     "name": "stdout",
     "output_type": "stream",
     "text": [
      "Train confusion matrix\n",
      "the maximum value of tpr*(1-fpr) 0.6751450371011997 for threshold 0.804\n",
      "[[10817  2417]\n",
      " [12904 61258]]\n",
      "the maximum value of tpr*(1-fpr) 0.6751450371011997 for threshold 0.804\n"
     ]
    },
    {
     "data": {
      "text/plain": [
       "<matplotlib.axes._subplots.AxesSubplot at 0x7f15441ffc50>"
      ]
     },
     "execution_count": 78,
     "metadata": {
      "tags": []
     },
     "output_type": "execute_result"
    },
    {
     "data": {
      "image/png": "[encoded data removed]",
      "text/plain": [
       "<Figure size 432x288 with 2 Axes>"
      ]
     },
     "metadata": {
      "tags": []
     },
     "output_type": "display_data"
    }
   ],
   "source": [
    "from sklearn.metrics import confusion_matrix\n",
    "print(\"Train confusion matrix\")\n",
    "print(confusion_matrix(y_train, predict(y_train_pred, tr_thresholds, train_fpr, train_tpr)))\n",
    "conf_matr_df_train = pd.DataFrame(confusion_matrix(y_train, predict(y_train_pred, tr_thresholds,train_fpr, train_tpr)), range(2),range(2))\n",
    "## https://likegeeks.com/seaborn-heatmap-tutorial/#Sequential-colormap\n",
    "sns.set(font_scale=1.4)\n",
    "sns.heatmap(conf_matr_df_train, annot=True,annot_kws={\"size\": 26}, fmt='g',cmap=\"YlGnBu\")"
   ]
  },
  {
   "cell_type": "code",
   "execution_count": 79,
   "metadata": {
    "colab": {
     "base_uri": "https://localhost:8080/",
     "height": 375
    },
    "colab_type": "code",
    "id": "lC83k_zUfdrH",
    "outputId": "fda57059-25ba-44cd-c977-a7d329d35338"
   },
   "outputs": [
    {
     "name": "stdout",
     "output_type": "stream",
     "text": [
      "Test confusion matrix\n",
      "the maximum value of tpr*(1-fpr) 0.4097435097105294 for threshold 0.853\n",
      "[[ 2320   988]\n",
      " [ 7866 10675]]\n",
      "the maximum value of tpr*(1-fpr) 0.4097435097105294 for threshold 0.853\n"
     ]
    },
    {
     "data": {
      "text/plain": [
       "<matplotlib.axes._subplots.AxesSubplot at 0x7f154728a160>"
      ]
     },
     "execution_count": 79,
     "metadata": {
      "tags": []
     },
     "output_type": "execute_result"
    },
    {
     "data": {
      "image/png": "[encoded data removed]",
      "text/plain": [
       "<Figure size 432x288 with 2 Axes>"
      ]
     },
     "metadata": {
      "tags": []
     },
     "output_type": "display_data"
    }
   ],
   "source": [
    "## test confusion matrix"
   ]
  },
  {
   "cell_type": "markdown",
   "metadata": {
    "colab_type": "text",
    "id": "GMf5_1rXhlBm"
   },
   "source": [
    "Applying Logistic Regression on TF-IDF and using gridsearchcv to find best alpha"
   ]
  },
  {
   "cell_type": "code",
   "execution_count": 86,
   "metadata": {
    "colab": {
     "base_uri": "https://localhost:8080/",
     "height": 85
    },
    "colab_type": "code",
    "id": "O4lFsEeQhqmX",
    "outputId": "ee47e16d-a803-4d8b-d1e9-6a4dfbb65cde"
   },
   "outputs": [
    {
     "name": "stdout",
     "output_type": "stream",
     "text": [
      "Fitting 10 folds for each of 20 candidates, totalling 200 fits\n"
     ]
    },
    {
     "name": "stderr",
     "output_type": "stream",
     "text": [
      "[Parallel(n_jobs=1)]: Using backend SequentialBackend with 1 concurrent workers.\n",
      "[Parallel(n_jobs=1)]: Done 200 out of 200 | elapsed:  2.1min finished\n"
     ]
    },
    {
     "name": "stdout",
     "output_type": "stream",
     "text": [
      "Best alpha:  1e-05  BEST SCORE:  0.6572839288467784\n"
     ]
    }
   ],
   "source": [
    "from sklearn.model_selection import GridSearchCV\n",
    "lor_tfidf = SGDClassifier(loss=\"log\")\n",
    "parameters = {'alpha':[0.00001, 0.00005, 0.0001, 0.0005, 0.001, 0.005, 0.01, 0.05, 0.1, 0.5, 1, 5, 10, 50, 100, 500, 1000, 2500, 5000, 10000]}\n",
    "clf = GridSearchCV(lor_tfidf, parameters, cv= 10, scoring='roc_auc',verbose=1,return_train_score=True)\n",
    "clf.fit(x_train_onehot_tfidf,y_train)\n",
    "train_auc= clf.cv_results_['mean_train_score']\n",
    "train_auc_std= clf.cv_results_['std_train_score']\n",
    "cv_auc = clf.cv_results_['mean_test_score']\n",
    "cv_auc_std= clf.cv_results_['std_test_score']\n",
    "bestAlpha_2=clf.best_params_['alpha']\n",
    "bestScore_2=clf.best_score_\n",
    "print(\"Best alpha: \",clf.best_params_['alpha'],\" BEST SCORE: \",clf.best_score_)"
   ]
  },
  {
   "cell_type": "code",
   "execution_count": 88,
   "metadata": {
    "colab": {
     "base_uri": "https://localhost:8080/",
     "height": 369
    },
    "colab_type": "code",
    "id": "lLINqUzL0VHV",
    "outputId": "065a6c47-e8a6-40e5-b14f-010af48a9130"
   },
   "outputs": [
    {
     "data": {
      "image/png": "[encoded data removed]",
      "text/plain": [
       "<Figure size 720x360 with 1 Axes>"
      ]
     },
     "metadata": {
      "tags": []
     },
     "output_type": "display_data"
    }
   ],
   "source": [
    "alphas = [0.00001, 0.00005, 0.0001, 0.0005, 0.001, 0.002, 0.003, 0.005, 0.006, 0.007, 0.008, 0.009, 0.010, 0.02, 0.03, 0.04, 0.05, 0.06, 0.07, 0.08]\n",
    "plt.figure(figsize=(10,5))\n",
    "plt.plot(alphas, train_auc, label='Train AUC')\n",
    "plt.gca().fill_between(alphas,train_auc - train_auc_std,train_auc + train_auc_std,alpha=0.3,color='darkblue')\n",
    "plt.plot(alphas, cv_auc, label='CV AUC')\n",
    "plt.gca().fill_between(alphas,cv_auc - cv_auc_std,cv_auc + cv_auc_std,alpha=0.3,color='darkorange')\n",
    "plt.scatter(alphas, train_auc, label='Train AUC points')\n",
    "plt.scatter(alphas, cv_auc, label='CV AUC points')\n",
    "plt.legend()\n",
    "plt.xlabel(\"alpha: hyperparameter\")\n",
    "plt.ylabel(\"AUC\")\n",
    "plt.title(\"alpha: hyperparameter v/s AUC\")\n",
    "plt.grid()\n",
    "plt.show()"
   ]
  },
  {
   "cell_type": "markdown",
   "metadata": {
    "colab_type": "text",
    "id": "rcCgqE3T4iOu"
   },
   "source": [
    "Testing the model with best hyperparameter alpha\n"
   ]
  },
  {
   "cell_type": "code",
   "execution_count": 95,
   "metadata": {
    "colab": {
     "base_uri": "https://localhost:8080/",
     "height": 315
    },
    "colab_type": "code",
    "id": "andBWC34iCk5",
    "outputId": "49bf2d74-ed70-4edb-e257-217fe9193ff2"
   },
   "outputs": [
    {
     "data": {
      "image/png": "[encoded data removed]",
      "text/plain": [
       "<Figure size 432x288 with 1 Axes>"
      ]
     },
     "metadata": {
      "tags": []
     },
     "output_type": "display_data"
    }
   ],
   "source": [
    "lor_tfidf = SGDClassifier(alpha=bestAlpha_2,loss=\"log\")\n",
    "lor_tfidf.fit(x_train_onehot_tfidf, y_train)\n",
    "y_train_pred=lor_tfidf.predict_proba(x_train_onehot_tfidf)[:,1]\n",
    "y_test_pred=lor_tfidf.predict_proba(x_test_onehot_tfidf)[:,1]\n",
    "train_fpr, train_tpr, tr_thresholds = roc_curve(y_train, y_train_pred)\n",
    "test_fpr, test_tpr, te_thresholds = roc_curve(y_test, y_test_pred)\n",
    "ax = plt.subplot()\n",
    "auc_set1_train=auc(train_fpr, train_tpr)\n",
    "auc_set1_test=auc(test_fpr, test_tpr)\n",
    "ax.plot(train_fpr, train_tpr, label=\"Train AUC =\"+str(auc(train_fpr, train_tpr)))\n",
    "ax.plot(test_fpr, test_tpr, label=\"Test AUC =\"+str(auc(test_fpr, test_tpr)))\n",
    "plt.legend()\n",
    "plt.xlabel(\"False Positive Rate(FPR)\")\n",
    "plt.ylabel(\"True Positive Rate(TPR)\")\n",
    "plt.title(\"AUC\")\n",
    "plt.grid(b=True, which='major', color='k', linestyle=':')\n",
    "ax.set_facecolor(\"white\")\n",
    "plt.show()"
   ]
  },
  {
   "cell_type": "markdown",
   "metadata": {
    "colab_type": "text",
    "id": "IL9JA_7LkplN"
   },
   "source": [
    "Confusion Matrix"
   ]
  },
  {
   "cell_type": "code",
   "execution_count": 0,
   "metadata": {
    "colab": {},
    "colab_type": "code",
    "id": "RPrqGRKjkGAW"
   },
   "outputs": [],
   "source": [
    "def predict(proba, threshould, fpr, tpr):\n",
    "    t = threshould[np.argmax(tpr*(1-fpr))]\n",
    "    print(\"the maximum value of tpr*(1-fpr)\", max(tpr*(1-fpr)), \"for threshold\", np.round(t,3))\n",
    "    predictions = []\n",
    "    for i in proba:\n",
    "        if i>=t:\n",
    "            predictions.append(1)\n",
    "        else:\n",
    "            predictions.append(0)\n",
    "    return predictions"
   ]
  },
  {
   "cell_type": "code",
   "execution_count": 91,
   "metadata": {
    "colab": {
     "base_uri": "https://localhost:8080/",
     "height": 375
    },
    "colab_type": "code",
    "id": "flW54vrbkye7",
    "outputId": "5ef3f08d-37c4-4131-f115-b7a8517e6ac7"
   },
   "outputs": [
    {
     "name": "stdout",
     "output_type": "stream",
     "text": [
      "Train confusion matrix\n",
      "the maximum value of tpr*(1-fpr) 0.7248091564428937 for threshold 0.8\n",
      "[[11278  1956]\n",
      " [11086 63076]]\n",
      "the maximum value of tpr*(1-fpr) 0.7248091564428937 for threshold 0.8\n"
     ]
    },
    {
     "data": {
      "text/plain": [
       "<matplotlib.axes._subplots.AxesSubplot at 0x7f153573f710>"
      ]
     },
     "execution_count": 91,
     "metadata": {
      "tags": []
     },
     "output_type": "execute_result"
    },
    {
     "data": {
      "image/png": "[encoded data removed]",
      "text/plain": [
       "<Figure size 432x288 with 2 Axes>"
      ]
     },
     "metadata": {
      "tags": []
     },
     "output_type": "display_data"
    }
   ],
   "source": [
    "#training confusion matrix\n",
    "from sklearn.metrics import confusion_matrix\n",
    "print(\"Train confusion matrix\")\n",
    "print(confusion_matrix(y_train, predict(y_train_pred, tr_thresholds, train_fpr, train_tpr)))\n",
    "conf_matr_df_train = pd.DataFrame(confusion_matrix(y_train, predict(y_train_pred, tr_thresholds,train_fpr, train_tpr)), range(2),range(2))\n",
    "sns.set(font_scale=1.4)#for label size\n",
    "sns.heatmap(conf_matr_df_train, annot=True,annot_kws={\"size\": 26}, fmt='g',cmap=\"YlGnBu\")"
   ]
  },
  {
   "cell_type": "code",
   "execution_count": 92,
   "metadata": {
    "colab": {
     "base_uri": "https://localhost:8080/",
     "height": 375
    },
    "colab_type": "code",
    "id": "nQV9IsWck1UP",
    "outputId": "07355290-002b-46b3-eb09-23e345e2a042"
   },
   "outputs": [
    {
     "name": "stdout",
     "output_type": "stream",
     "text": [
      "Test confusion matrix\n",
      "the maximum value of tpr*(1-fpr) 0.34077398780323254 for threshold 0.83\n",
      "[[ 3290    18]\n",
      " [18295   246]]\n",
      "the maximum value of tpr*(1-fpr) 0.34077398780323254 for threshold 0.83\n"
     ]
    },
    {
     "data": {
      "text/plain": [
       "<matplotlib.axes._subplots.AxesSubplot at 0x7f1547ba5a20>"
      ]
     },
     "execution_count": 92,
     "metadata": {
      "tags": []
     },
     "output_type": "execute_result"
    },
    {
     "data": {
      "image/png": "[encoded data removed]",
      "text/plain": [
       "<Figure size 432x288 with 2 Axes>"
      ]
     },
     "metadata": {
      "tags": []
     },
     "output_type": "display_data"
    }
   ],
   "source": [
    "#test Confusion Matrix\n",
    "print(\"Test confusion matrix\")\n",
    "print(confusion_matrix(y_test, predict(y_test_pred, tr_thresholds, test_fpr, test_tpr)))\n",
    "conf_matr_df_test = pd.DataFrame(confusion_matrix(y_test, predict(y_test_pred, tr_thresholds, test_fpr, test_tpr)), range(2),range(2))\n",
    "sns.set(font_scale=1.4)#for label size\n",
    "sns.heatmap(conf_matr_df_test, annot=True,annot_kws={\"size\": 26}, fmt='g' ,cmap='YlGnBu')"
   ]
  },
  {
   "cell_type": "markdown",
   "metadata": {
    "colab_type": "text",
    "id": "rhQLEueT5fdn"
   },
   "source": [
    "avg w2v"
   ]
  },
  {
   "cell_type": "code",
   "execution_count": 93,
   "metadata": {
    "colab": {
     "base_uri": "https://localhost:8080/",
     "height": 85
    },
    "colab_type": "code",
    "id": "_AP82eTP5NQV",
    "outputId": "b17b04dc-d0c7-407c-bffc-8a8d08c64cb1"
   },
   "outputs": [
    {
     "name": "stdout",
     "output_type": "stream",
     "text": [
      "Fitting 10 folds for each of 20 candidates, totalling 200 fits\n"
     ]
    },
    {
     "name": "stderr",
     "output_type": "stream",
     "text": [
      "[Parallel(n_jobs=1)]: Using backend SequentialBackend with 1 concurrent workers.\n",
      "[Parallel(n_jobs=1)]: Done 200 out of 200 | elapsed:  2.2min finished\n"
     ]
    },
    {
     "name": "stdout",
     "output_type": "stream",
     "text": [
      "Best alpha:  5e-05  BEST SCORE:  0.6453434480202741\n"
     ]
    }
   ],
   "source": [
    "from sklearn.model_selection import GridSearchCV\n",
    "lor_avgw2v = SGDClassifier(loss=\"log\")\n",
    "parameters = {'alpha':[0.00001, 0.00005, 0.0001, 0.0005, 0.001, 0.005, 0.01, 0.05, 0.1, 0.5, 1, 5, 10, 50, 100, 500, 1000, 2500, 5000, 10000]}\n",
    "clf = GridSearchCV(lor_avgw2v, parameters, cv= 10, scoring='roc_auc',verbose=1,return_train_score=True)\n",
    "clf.fit(x_train_onehot_avgw2v,y_train)\n",
    "train_auc= clf.cv_results_['mean_train_score']\n",
    "train_auc_std= clf.cv_results_['std_train_score']\n",
    "cv_auc = clf.cv_results_['mean_test_score']\n",
    "cv_auc_std= clf.cv_results_['std_test_score']\n",
    "bestAlpha_3=clf.best_params_['alpha']\n",
    "bestScore_3=clf.best_score_\n",
    "print(\"Best alpha: \",clf.best_params_['alpha'],\" BEST SCORE: \",clf.best_score_)"
   ]
  },
  {
   "cell_type": "code",
   "execution_count": 94,
   "metadata": {
    "colab": {
     "base_uri": "https://localhost:8080/",
     "height": 369
    },
    "colab_type": "code",
    "id": "ufuzSsbx5uCa",
    "outputId": "fe18bda1-eca3-4bdf-9db5-f0f2d21938f7"
   },
   "outputs": [
    {
     "data": {
      "image/png": "[encoded data removed]",
      "text/plain": [
       "<Figure size 720x360 with 1 Axes>"
      ]
     },
     "metadata": {
      "tags": []
     },
     "output_type": "display_data"
    }
   ],
   "source": [
    "alphas = [0.00001, 0.00005, 0.0001, 0.0005, 0.001, 0.002, 0.003, 0.005, 0.006, 0.007, 0.008, 0.009, 0.010, 0.02, 0.03, 0.04, 0.05, 0.06, 0.07, 0.08]\n",
    "plt.figure(figsize=(10,5))\n",
    "plt.plot(alphas, train_auc, label='Train AUC')\n",
    "plt.gca().fill_between(alphas,train_auc - train_auc_std,train_auc + train_auc_std,alpha=0.3,color='darkblue')\n",
    "plt.plot(alphas, cv_auc, label='CV AUC')\n",
    "plt.gca().fill_between(alphas,cv_auc - cv_auc_std,cv_auc + cv_auc_std,alpha=0.3,color='darkorange')\n",
    "plt.scatter(alphas, train_auc, label='Train AUC points')\n",
    "plt.scatter(alphas, cv_auc, label='CV AUC points')\n",
    "plt.legend()\n",
    "plt.xlabel(\"alpha: hyperparameter\")\n",
    "plt.ylabel(\"AUC\")\n",
    "plt.title(\"alpha: hyperparameter v/s AUC\")\n",
    "plt.grid()\n",
    "plt.show()"
   ]
  },
  {
   "cell_type": "code",
   "execution_count": 100,
   "metadata": {
    "colab": {
     "base_uri": "https://localhost:8080/",
     "height": 315
    },
    "colab_type": "code",
    "id": "cW-9kf825trh",
    "outputId": "953f8953-2f69-4834-d913-ba54082ffab4"
   },
   "outputs": [
    {
     "data": {
      "image/png": "[encoded data removed]",
      "text/plain": [
       "<Figure size 432x288 with 1 Axes>"
      ]
     },
     "metadata": {
      "tags": []
     },
     "output_type": "display_data"
    }
   ],
   "source": [
    "lor_avgw2v = SGDClassifier(alpha=bestAlpha_3,loss=\"log\")\n",
    "lor_avgw2v.fit(x_train_onehot_avgw2v, y_train)\n",
    "y_train_pred=lor_avgw2v.predict_proba(x_train_onehot_avgw2v)[:,1]\n",
    "y_test_pred=lor_avgw2v.predict_proba(x_test_onehot_avgw2v)[:,1]\n",
    "train_fpr, train_tpr, tr_thresholds = roc_curve(y_train, y_train_pred)\n",
    "test_fpr, test_tpr, te_thresholds = roc_curve(y_test, y_test_pred)\n",
    "ax = plt.subplot()\n",
    "auc_set1_train=auc(train_fpr, train_tpr)\n",
    "auc_set1_test=auc(test_fpr, test_tpr)\n",
    "ax.plot(train_fpr, train_tpr, label=\"Train AUC =\"+str(auc(train_fpr, train_tpr)))\n",
    "ax.plot(test_fpr, test_tpr, label=\"Test AUC =\"+str(auc(test_fpr, test_tpr)))\n",
    "plt.legend()\n",
    "plt.xlabel(\"False Positive Rate(FPR)\")\n",
    "plt.ylabel(\"True Positive Rate(TPR)\")\n",
    "plt.title(\"AUC\")\n",
    "plt.grid(b=True, which='major', color='k', linestyle=':')\n",
    "ax.set_facecolor(\"white\")\n",
    "plt.show()"
   ]
  },
  {
   "cell_type": "code",
   "execution_count": 0,
   "metadata": {
    "colab": {},
    "colab_type": "code",
    "id": "OPKkUZZP6BFk"
   },
   "outputs": [],
   "source": [
    "def predict(proba, threshould, fpr, tpr):\n",
    "    t = threshould[np.argmax(tpr*(1-fpr))]\n",
    "    print(\"the maximum value of tpr*(1-fpr)\", max(tpr*(1-fpr)), \"for threshold\", np.round(t,3))\n",
    "    predictions = []\n",
    "    for i in proba:\n",
    "        if i>=t:\n",
    "            predictions.append(1)\n",
    "        else:\n",
    "            predictions.append(0)\n",
    "    return predictions"
   ]
  },
  {
   "cell_type": "code",
   "execution_count": 98,
   "metadata": {
    "colab": {
     "base_uri": "https://localhost:8080/",
     "height": 375
    },
    "colab_type": "code",
    "id": "hs3jpbYh6Fhu",
    "outputId": "4a4b1b8a-6b31-4bbb-c322-771775d8779c"
   },
   "outputs": [
    {
     "name": "stdout",
     "output_type": "stream",
     "text": [
      "Train confusion matrix\n",
      "the maximum value of tpr*(1-fpr) 0.3683491389237674 for threshold 0.825\n",
      "[[ 7838  5396]\n",
      " [28038 46124]]\n",
      "the maximum value of tpr*(1-fpr) 0.3683491389237674 for threshold 0.825\n"
     ]
    },
    {
     "data": {
      "text/plain": [
       "<matplotlib.axes._subplots.AxesSubplot at 0x7f1542198da0>"
      ]
     },
     "execution_count": 98,
     "metadata": {
      "tags": []
     },
     "output_type": "execute_result"
    },
    {
     "data": {
      "image/png": "[encoded data removed]",
      "text/plain": [
       "<Figure size 432x288 with 2 Axes>"
      ]
     },
     "metadata": {
      "tags": []
     },
     "output_type": "display_data"
    }
   ],
   "source": [
    "#training confusion matrix\n",
    "from sklearn.metrics import confusion_matrix\n",
    "print(\"Train confusion matrix\")\n",
    "print(confusion_matrix(y_train, predict(y_train_pred, tr_thresholds, train_fpr, train_tpr)))\n",
    "conf_matr_df_train = pd.DataFrame(confusion_matrix(y_train, predict(y_train_pred, tr_thresholds,train_fpr, train_tpr)), range(2),range(2))\n",
    "sns.set(font_scale=1.4)#for label size\n",
    "sns.heatmap(conf_matr_df_train, annot=True,annot_kws={\"size\": 26}, fmt='g',cmap=\"YlGnBu\")"
   ]
  },
  {
   "cell_type": "code",
   "execution_count": 99,
   "metadata": {
    "colab": {
     "base_uri": "https://localhost:8080/",
     "height": 375
    },
    "colab_type": "code",
    "id": "IUMg-iWs9PSH",
    "outputId": "909943a4-ad43-4124-8974-52eccc419cb1"
   },
   "outputs": [
    {
     "name": "stdout",
     "output_type": "stream",
     "text": [
      "Test confusion matrix\n",
      "the maximum value of tpr*(1-fpr) 0.35819920843423775 for threshold 0.908\n",
      "[[ 2953   355]\n",
      " [14895  3646]]\n",
      "the maximum value of tpr*(1-fpr) 0.35819920843423775 for threshold 0.908\n"
     ]
    },
    {
     "data": {
      "text/plain": [
       "<matplotlib.axes._subplots.AxesSubplot at 0x7f1544fe6ba8>"
      ]
     },
     "execution_count": 99,
     "metadata": {
      "tags": []
     },
     "output_type": "execute_result"
    },
    {
     "data": {
      "image/png": "[encoded data removed]",
      "text/plain": [
       "<Figure size 432x288 with 2 Axes>"
      ]
     },
     "metadata": {
      "tags": []
     },
     "output_type": "display_data"
    }
   ],
   "source": [
    "#test Confusion Matrix\n",
    "print(\"Test confusion matrix\")\n",
    "print(confusion_matrix(y_test, predict(y_test_pred, tr_thresholds, test_fpr, test_tpr)))\n",
    "conf_matr_df_test = pd.DataFrame(confusion_matrix(y_test, predict(y_test_pred, tr_thresholds, test_fpr, test_tpr)), range(2),range(2))\n",
    "sns.set(font_scale=1.4)#for label size\n",
    "sns.heatmap(conf_matr_df_test, annot=True,annot_kws={\"size\": 26}, fmt='g' ,cmap='YlGnBu')"
   ]
  },
  {
   "cell_type": "markdown",
   "metadata": {
    "colab_type": "text",
    "id": "SCVOGyCH5p4v"
   },
   "source": [
    "tfidf w2v"
   ]
  },
  {
   "cell_type": "code",
   "execution_count": 101,
   "metadata": {
    "colab": {
     "base_uri": "https://localhost:8080/",
     "height": 85
    },
    "colab_type": "code",
    "id": "Sf6kCDWG6KBH",
    "outputId": "58bad57f-c31f-47df-8b27-52d2b4a6f68c"
   },
   "outputs": [
    {
     "name": "stdout",
     "output_type": "stream",
     "text": [
      "Fitting 10 folds for each of 20 candidates, totalling 200 fits\n"
     ]
    },
    {
     "name": "stderr",
     "output_type": "stream",
     "text": [
      "[Parallel(n_jobs=1)]: Using backend SequentialBackend with 1 concurrent workers.\n",
      "[Parallel(n_jobs=1)]: Done 200 out of 200 | elapsed:  2.2min finished\n"
     ]
    },
    {
     "name": "stdout",
     "output_type": "stream",
     "text": [
      "Best alpha:  0.0001  BEST SCORE:  0.653933752912448\n"
     ]
    }
   ],
   "source": [
    "from sklearn.model_selection import GridSearchCV\n",
    "lor_tfidfw2v = SGDClassifier(loss=\"log\")\n",
    "parameters = {'alpha':[0.00001, 0.00005, 0.0001, 0.0005, 0.001, 0.005, 0.01, 0.05, 0.1, 0.5, 1, 5, 10, 50, 100, 500, 1000, 2500, 5000, 10000]}\n",
    "clf = GridSearchCV(lor_tfidfw2v, parameters, cv= 10, scoring='roc_auc',verbose=1,return_train_score=True)\n",
    "clf.fit(x_train_onehot_tfidfw2v,y_train)\n",
    "train_auc= clf.cv_results_['mean_train_score']\n",
    "train_auc_std= clf.cv_results_['std_train_score']\n",
    "cv_auc = clf.cv_results_['mean_test_score']\n",
    "cv_auc_std= clf.cv_results_['std_test_score']\n",
    "bestAlpha_4=clf.best_params_['alpha']\n",
    "bestScore_4=clf.best_score_\n",
    "print(\"Best alpha: \",clf.best_params_['alpha'],\" BEST SCORE: \",clf.best_score_)"
   ]
  },
  {
   "cell_type": "code",
   "execution_count": 102,
   "metadata": {
    "colab": {
     "base_uri": "https://localhost:8080/",
     "height": 369
    },
    "colab_type": "code",
    "id": "0xzHJ2qX6LCN",
    "outputId": "d3dacca1-d1ba-412d-f1bb-33991e4ed4aa"
   },
   "outputs": [
    {
     "data": {
      "image/png": "[encoded data removed]",
      "text/plain": [
       "<Figure size 720x360 with 1 Axes>"
      ]
     },
     "metadata": {
      "tags": []
     },
     "output_type": "display_data"
    }
   ],
   "source": [
    "alphas = [0.00001, 0.00005, 0.0001, 0.0005, 0.001, 0.002, 0.003, 0.005, 0.006, 0.007, 0.008, 0.009, 0.010, 0.02, 0.03, 0.04, 0.05, 0.06, 0.07, 0.08]\n",
    "plt.figure(figsize=(10,5))\n",
    "plt.plot(alphas, train_auc, label='Train AUC')\n",
    "plt.gca().fill_between(alphas,train_auc - train_auc_std,train_auc + train_auc_std,alpha=0.3,color='darkblue')\n",
    "plt.plot(alphas, cv_auc, label='CV AUC')\n",
    "plt.gca().fill_between(alphas,cv_auc - cv_auc_std,cv_auc + cv_auc_std,alpha=0.3,color='darkorange')\n",
    "plt.scatter(alphas, train_auc, label='Train AUC points')\n",
    "plt.scatter(alphas, cv_auc, label='CV AUC points')\n",
    "plt.legend()\n",
    "plt.xlabel(\"alpha: hyperparameter\")\n",
    "plt.ylabel(\"AUC\")\n",
    "plt.title(\"alpha: hyperparameter v/s AUC\")\n",
    "plt.grid()\n",
    "plt.show()"
   ]
  },
  {
   "cell_type": "code",
   "execution_count": 104,
   "metadata": {
    "colab": {
     "base_uri": "https://localhost:8080/",
     "height": 315
    },
    "colab_type": "code",
    "id": "7N5lwyEk6TTB",
    "outputId": "6129679d-e9d0-4a8d-b250-d0d4d5ce6c01"
   },
   "outputs": [
    {
     "data": {
      "image/png": "[encoded data removed]",
      "text/plain": [
       "<Figure size 432x288 with 1 Axes>"
      ]
     },
     "metadata": {
      "tags": []
     },
     "output_type": "display_data"
    }
   ],
   "source": [
    "lor_tfidfw2v = SGDClassifier(alpha=bestAlpha_4,loss=\"log\")\n",
    "lor_tfidfw2v.fit(x_train_onehot_tfidfw2v, y_train)\n",
    "y_train_pred=lor_tfidfw2v.predict_proba(x_train_onehot_tfidfw2v)[:,1]\n",
    "y_test_pred=lor_tfidfw2v.predict_proba(x_test_onehot_tfidfw2v)[:,1]\n",
    "train_fpr, train_tpr, tr_thresholds = roc_curve(y_train, y_train_pred)\n",
    "test_fpr, test_tpr, te_thresholds = roc_curve(y_test, y_test_pred)\n",
    "ax = plt.subplot()\n",
    "auc_set1_train=auc(train_fpr, train_tpr)\n",
    "auc_set1_test=auc(test_fpr, test_tpr)\n",
    "ax.plot(train_fpr, train_tpr, label=\"Train AUC =\"+str(auc(train_fpr, train_tpr)))\n",
    "ax.plot(test_fpr, test_tpr, label=\"Test AUC =\"+str(auc(test_fpr, test_tpr)))\n",
    "plt.legend()\n",
    "plt.xlabel(\"False Positive Rate(FPR)\")\n",
    "plt.ylabel(\"True Positive Rate(TPR)\")\n",
    "plt.title(\"AUC\")\n",
    "plt.grid(b=True, which='major', color='k', linestyle=':')\n",
    "ax.set_facecolor(\"white\")\n",
    "plt.show()"
   ]
  },
  {
   "cell_type": "code",
   "execution_count": 0,
   "metadata": {
    "colab": {},
    "colab_type": "code",
    "id": "YYRshcjf6UUn"
   },
   "outputs": [],
   "source": [
    "def predict(proba, threshould, fpr, tpr):\n",
    "    t = threshould[np.argmax(tpr*(1-fpr))]\n",
    "    print(\"the maximum value of tpr*(1-fpr)\", max(tpr*(1-fpr)), \"for threshold\", np.round(t,3))\n",
    "    predictions = []\n",
    "    for i in proba:\n",
    "        if i>=t:\n",
    "            predictions.append(1)\n",
    "        else:\n",
    "            predictions.append(0)\n",
    "    return predictions"
   ]
  },
  {
   "cell_type": "code",
   "execution_count": 106,
   "metadata": {
    "colab": {
     "base_uri": "https://localhost:8080/",
     "height": 375
    },
    "colab_type": "code",
    "id": "QoMasATp6aS8",
    "outputId": "f58cba6f-650e-4232-c08b-08e09744d6b3"
   },
   "outputs": [
    {
     "name": "stdout",
     "output_type": "stream",
     "text": [
      "Train confusion matrix\n",
      "the maximum value of tpr*(1-fpr) 0.38278226236012486 for threshold 0.846\n",
      "[[ 7916  5318]\n",
      " [26703 47459]]\n",
      "the maximum value of tpr*(1-fpr) 0.38278226236012486 for threshold 0.846\n"
     ]
    },
    {
     "data": {
      "text/plain": [
       "<matplotlib.axes._subplots.AxesSubplot at 0x7f15492c46a0>"
      ]
     },
     "execution_count": 106,
     "metadata": {
      "tags": []
     },
     "output_type": "execute_result"
    },
    {
     "data": {
      "image/png": "[encoded data removed]",
      "text/plain": [
       "<Figure size 432x288 with 2 Axes>"
      ]
     },
     "metadata": {
      "tags": []
     },
     "output_type": "display_data"
    }
   ],
   "source": [
    "#training confusion matrix\n",
    "from sklearn.metrics import confusion_matrix\n",
    "print(\"Train confusion matrix\")\n",
    "print(confusion_matrix(y_train, predict(y_train_pred, tr_thresholds, train_fpr, train_tpr)))\n",
    "conf_matr_df_train = pd.DataFrame(confusion_matrix(y_train, predict(y_train_pred, tr_thresholds,train_fpr, train_tpr)), range(2),range(2))\n",
    "sns.set(font_scale=1.4)#for label size\n",
    "sns.heatmap(conf_matr_df_train, annot=True,annot_kws={\"size\": 26}, fmt='g',cmap=\"YlGnBu\")"
   ]
  },
  {
   "cell_type": "code",
   "execution_count": 107,
   "metadata": {
    "colab": {
     "base_uri": "https://localhost:8080/",
     "height": 375
    },
    "colab_type": "code",
    "id": "OIkmXxux9QaE",
    "outputId": "47cdac17-f0e9-4c78-97e6-a11b95f4eb6e"
   },
   "outputs": [
    {
     "name": "stdout",
     "output_type": "stream",
     "text": [
      "Test confusion matrix\n",
      "the maximum value of tpr*(1-fpr) 0.3844932016739659 for threshold 0.913\n",
      "[[ 3010   298]\n",
      " [14512  4029]]\n",
      "the maximum value of tpr*(1-fpr) 0.3844932016739659 for threshold 0.913\n"
     ]
    },
    {
     "data": {
      "text/plain": [
       "<matplotlib.axes._subplots.AxesSubplot at 0x7f154b88e438>"
      ]
     },
     "execution_count": 107,
     "metadata": {
      "tags": []
     },
     "output_type": "execute_result"
    },
    {
     "data": {
      "image/png": "[encoded data removed]",
      "text/plain": [
       "<Figure size 432x288 with 2 Axes>"
      ]
     },
     "metadata": {
      "tags": []
     },
     "output_type": "display_data"
    }
   ],
   "source": [
    "#test Confusion Matrix\n",
    "print(\"Test confusion matrix\")\n",
    "print(confusion_matrix(y_test, predict(y_test_pred, tr_thresholds, test_fpr, test_tpr)))\n",
    "conf_matr_df_test = pd.DataFrame(confusion_matrix(y_test, predict(y_test_pred, tr_thresholds, test_fpr, test_tpr)), range(2),range(2))\n",
    "sns.set(font_scale=1.4)#for label size\n",
    "sns.heatmap(conf_matr_df_test, annot=True,annot_kws={\"size\": 26}, fmt='g' ,cmap='YlGnBu')"
   ]
  },
  {
   "cell_type": "markdown",
   "metadata": {
    "colab_type": "text",
    "id": "cIxeIBzA_ial"
   },
   "source": [
    "Task5"
   ]
  },
  {
   "cell_type": "code",
   "execution_count": 0,
   "metadata": {
    "colab": {},
    "colab_type": "code",
    "id": "O9CVI8G8_g71"
   },
   "outputs": [],
   "source": [
    "resource_data=pd.read_csv('/content/drive/My Drive/6_Donors_choose_NB/resources.csv')"
   ]
  },
  {
   "cell_type": "code",
   "execution_count": 120,
   "metadata": {
    "colab": {
     "base_uri": "https://localhost:8080/",
     "height": 111
    },
    "colab_type": "code",
    "id": "f7ENd-OURLPY",
    "outputId": "4702bca0-4d40-4c0d-9bac-0ebfa8fd5b74"
   },
   "outputs": [
    {
     "data": {
      "text/html": [
       "<div>\n",
       "<style scoped>\n",
       "    .dataframe tbody tr th:only-of-type {\n",
       "        vertical-align: middle;\n",
       "    }\n",
       "\n",
       "    .dataframe tbody tr th {\n",
       "        vertical-align: top;\n",
       "    }\n",
       "\n",
       "    .dataframe thead th {\n",
       "        text-align: right;\n",
       "    }\n",
       "</style>\n",
       "<table border=\"1\" class=\"dataframe\">\n",
       "  <thead>\n",
       "    <tr style=\"text-align: right;\">\n",
       "      <th></th>\n",
       "      <th>id</th>\n",
       "      <th>description</th>\n",
       "      <th>quantity</th>\n",
       "      <th>price</th>\n",
       "    </tr>\n",
       "  </thead>\n",
       "  <tbody>\n",
       "    <tr>\n",
       "      <th>0</th>\n",
       "      <td>p233245</td>\n",
       "      <td>LC652 - Lakeshore Double-Space Mobile Drying Rack</td>\n",
       "      <td>1</td>\n",
       "      <td>149.00</td>\n",
       "    </tr>\n",
       "    <tr>\n",
       "      <th>1</th>\n",
       "      <td>p069063</td>\n",
       "      <td>Bouncy Bands for Desks (Blue support pipes)</td>\n",
       "      <td>3</td>\n",
       "      <td>14.95</td>\n",
       "    </tr>\n",
       "  </tbody>\n",
       "</table>\n",
       "</div>"
      ],
      "text/plain": [
       "        id                                        description  quantity   price\n",
       "0  p233245  LC652 - Lakeshore Double-Space Mobile Drying Rack         1  149.00\n",
       "1  p069063        Bouncy Bands for Desks (Blue support pipes)         3   14.95"
      ]
     },
     "execution_count": 120,
     "metadata": {
      "tags": []
     },
     "output_type": "execute_result"
    }
   ],
   "source": [
    "resource_data.head(2)"
   ]
  },
  {
   "cell_type": "code",
   "execution_count": 0,
   "metadata": {
    "colab": {},
    "colab_type": "code",
    "id": "JD8aPx_LTR_y"
   },
   "outputs": [],
   "source": [
    "price_data = resource_data.groupby('id').agg({'price':'sum', 'quantity':'sum'}).reset_index()"
   ]
  },
  {
   "cell_type": "code",
   "execution_count": 0,
   "metadata": {
    "colab": {},
    "colab_type": "code",
    "id": "1U0Mt9FXJ1IG"
   },
   "outputs": [],
   "source": [
    "x_train = pd.merge(x_train, price_data, on='id', how='left')\n",
    "x_test = pd.merge(x_test, price_data, on='id', how='left')"
   ]
  },
  {
   "cell_type": "code",
   "execution_count": 140,
   "metadata": {
    "colab": {
     "base_uri": "https://localhost:8080/",
     "height": 68
    },
    "colab_type": "code",
    "id": "Os5kz68mL47X",
    "outputId": "0a037fcb-03ad-464d-ff32-d184c1d5481b"
   },
   "outputs": [
    {
     "name": "stdout",
     "output_type": "stream",
     "text": [
      "After vectorizations\n",
      "(1, 87396)\n",
      "(1, 21849)\n"
     ]
    }
   ],
   "source": [
    "from sklearn.preprocessing import Normalizer\n",
    "normalizer = Normalizer()\n",
    "\n",
    "normalizer.fit(x_train['price'].values.reshape(1,-1))\n",
    "price_train = normalizer.transform(x_train['price'].values.reshape(1,-1))\n",
    "price_test = normalizer.transform(x_test['price'].values.reshape(1,-1))\n",
    "print(\"After vectorizations\")\n",
    "print(price_train.shape)\n",
    "print(price_test.shape)"
   ]
  },
  {
   "cell_type": "code",
   "execution_count": 141,
   "metadata": {
    "colab": {
     "base_uri": "https://localhost:8080/",
     "height": 68
    },
    "colab_type": "code",
    "id": "cvDxZBT9UT4i",
    "outputId": "d66bc77a-66c9-4765-d4cb-039cbdc8db0b"
   },
   "outputs": [
    {
     "name": "stdout",
     "output_type": "stream",
     "text": [
      "After vectorizations\n",
      "(1, 87396)\n",
      "(1, 21849)\n"
     ]
    }
   ],
   "source": [
    "normalizer = Normalizer()\n",
    "\n",
    "normalizer.fit(x_train['quantity'].values.reshape(1,-1))\n",
    "quantity_train = normalizer.transform(x_train['quantity'].values.reshape(1,-1))\n",
    "quantity_test = normalizer.transform(x_test['quantity'].values.reshape(1,-1))\n",
    "\n",
    "print(\"After vectorizations\")\n",
    "print(quantity_train.shape)\n",
    "print(quantity_test.shape)"
   ]
  },
  {
   "cell_type": "code",
   "execution_count": 124,
   "metadata": {
    "colab": {
     "base_uri": "https://localhost:8080/",
     "height": 68
    },
    "colab_type": "code",
    "id": "U4LvsyWGUzh7",
    "outputId": "4f2634f9-ae4a-41db-bc30-64424e4d3d55"
   },
   "outputs": [
    {
     "name": "stdout",
     "output_type": "stream",
     "text": [
      "After vectorizations\n",
      "(87396, 1)\n",
      "(21849, 1)\n"
     ]
    }
   ],
   "source": [
    "normalizer = Normalizer()\n",
    "\n",
    "normalizer.fit(x_train['teacher_number_of_previously_posted_projects'].values.reshape(1,-1))\n",
    "prev_projects_train = normalizer.transform(x_train['teacher_number_of_previously_posted_projects'].values.reshape(-1,1))\n",
    "prev_projects_test = normalizer.transform(x_test['teacher_number_of_previously_posted_projects'].values.reshape(-1,1))\n",
    "\n",
    "print(\"After vectorizations\")\n",
    "print(prev_projects_train.shape)\n",
    "print(prev_projects_test.shape)"
   ]
  },
  {
   "cell_type": "code",
   "execution_count": 130,
   "metadata": {
    "colab": {
     "base_uri": "https://localhost:8080/",
     "height": 51
    },
    "colab_type": "code",
    "id": "eBp-DLI0X37E",
    "outputId": "b05d69ab-15a1-4460-8d18-83a17d12d565"
   },
   "outputs": [
    {
     "name": "stdout",
     "output_type": "stream",
     "text": [
      "[nltk_data] Downloading package vader_lexicon to /root/nltk_data...\n"
     ]
    },
    {
     "data": {
      "text/plain": [
       "True"
      ]
     },
     "execution_count": 130,
     "metadata": {
      "tags": []
     },
     "output_type": "execute_result"
    }
   ],
   "source": [
    "import nltk\n",
    "nltk.download('vader_lexicon')"
   ]
  },
  {
   "cell_type": "code",
   "execution_count": 131,
   "metadata": {
    "colab": {
     "base_uri": "https://localhost:8080/",
     "height": 34
    },
    "colab_type": "code",
    "id": "ya0Z8zTsWQ1O",
    "outputId": "81dd8094-bd52-46c5-a54b-a7eb9173fe59"
   },
   "outputs": [
    {
     "name": "stderr",
     "output_type": "stream",
     "text": [
      "100%|██████████| 109245/109245 [12:41<00:00, 143.53it/s]\n"
     ]
    }
   ],
   "source": [
    "import nltk\n",
    "from nltk.sentiment.vader import SentimentIntensityAnalyzer\n",
    "analyser = SentimentIntensityAnalyzer()\n",
    "\n",
    "neg = []\n",
    "pos = []\n",
    "neu = []\n",
    "compound = []\n",
    "for a in tqdm(project_data[\"preprocessed_essays\"]) :\n",
    "  b = analyser.polarity_scores(a)['neg']\n",
    "  c = analyser.polarity_scores(a)['pos']\n",
    "  d = analyser.polarity_scores(a)['neu']\n",
    "  e = analyser.polarity_scores(a)['compound']\n",
    "  neg.append(b)\n",
    "  pos.append(c)\n",
    "  neu.append(d)\n",
    "  compound.append(e)\n",
    "\n",
    "project_data[\"pos\"] = pos\n",
    "project_data[\"neg\"] = neg\n",
    "project_data[\"neu\"] = neu\n",
    "project_data[\"compound\"] = compound"
   ]
  },
  {
   "cell_type": "code",
   "execution_count": 133,
   "metadata": {
    "colab": {
     "base_uri": "https://localhost:8080/",
     "height": 68
    },
    "colab_type": "code",
    "id": "GSVD-iWhbMNd",
    "outputId": "e578e0e4-a229-49a3-e8c7-ba04d7200584"
   },
   "outputs": [
    {
     "name": "stdout",
     "output_type": "stream",
     "text": [
      "After vectorizations\n",
      "(1, 87396)\n",
      "(1, 21849)\n"
     ]
    }
   ],
   "source": [
    "normalizer = Normalizer()\n",
    "normalizer.fit(x_train['pos'].values.reshape(1,-1))\n",
    "essay_sent_pos_train = normalizer.transform(x_train['pos'].values.reshape(1,-1))\n",
    "essay_sent_pos_test = normalizer.transform(x_test['pos'].values.reshape(1,-1))\n",
    "print(\"After vectorizations\")\n",
    "print(essay_sent_pos_train.shape)\n",
    "print(essay_sent_pos_test.shape)"
   ]
  },
  {
   "cell_type": "code",
   "execution_count": 134,
   "metadata": {
    "colab": {
     "base_uri": "https://localhost:8080/",
     "height": 68
    },
    "colab_type": "code",
    "id": "FaiRZ9E2c9cS",
    "outputId": "f5aba653-2940-442f-91d5-c46201f47539"
   },
   "outputs": [
    {
     "name": "stdout",
     "output_type": "stream",
     "text": [
      "After vectorizations\n",
      "(1, 87396)\n",
      "(1, 21849)\n"
     ]
    }
   ],
   "source": [
    "normalizer = Normalizer()\n",
    "normalizer.fit(x_train['neg'].values.reshape(1,-1))\n",
    "essay_sent_neg_train = normalizer.transform(x_train['neg'].values.reshape(1,-1))\n",
    "essay_sent_neg_test = normalizer.transform(x_test['neg'].values.reshape(1,-1))\n",
    "print(\"After vectorizations\")\n",
    "print(essay_sent_neg_train.shape)\n",
    "print(essay_sent_neg_test.shape)"
   ]
  },
  {
   "cell_type": "code",
   "execution_count": 135,
   "metadata": {
    "colab": {
     "base_uri": "https://localhost:8080/",
     "height": 68
    },
    "colab_type": "code",
    "id": "frGAKgN3dYKi",
    "outputId": "b88e0430-60d0-4cfa-b692-d4c0711cdbeb"
   },
   "outputs": [
    {
     "name": "stdout",
     "output_type": "stream",
     "text": [
      "After vectorizations\n",
      "(1, 87396)\n",
      "(1, 21849)\n"
     ]
    }
   ],
   "source": [
    "normalizer = Normalizer()\n",
    "normalizer.fit(x_train['neu'].values.reshape(1,-1))\n",
    "essay_sent_neu_train = normalizer.transform(x_train['neu'].values.reshape(1,-1))\n",
    "essay_sent_neu_test = normalizer.transform(x_test['neu'].values.reshape(1,-1))\n",
    "print(\"After vectorizations\")\n",
    "print(essay_sent_neu_train.shape)\n",
    "print(essay_sent_neu_test.shape)"
   ]
  },
  {
   "cell_type": "code",
   "execution_count": 136,
   "metadata": {
    "colab": {
     "base_uri": "https://localhost:8080/",
     "height": 68
    },
    "colab_type": "code",
    "id": "7c93ELxRdmlu",
    "outputId": "e8b784b5-5f29-4936-c705-54543f7684d2"
   },
   "outputs": [
    {
     "name": "stdout",
     "output_type": "stream",
     "text": [
      "After vectorizations\n",
      "(1, 87396)\n",
      "(1, 21849)\n"
     ]
    }
   ],
   "source": [
    "normalizer = Normalizer()\n",
    "normalizer.fit(x_train['compound'].values.reshape(1,-1))\n",
    "essay_sent_comp_train = normalizer.transform(x_train['compound'].values.reshape(1,-1))\n",
    "essay_sent_comp_test = normalizer.transform(x_test['compound'].values.reshape(1,-1))\n",
    "print(\"After vectorizations\")\n",
    "print(essay_sent_comp_train.shape)\n",
    "print(essay_sent_comp_test.shape)"
   ]
  },
  {
   "cell_type": "code",
   "execution_count": 0,
   "metadata": {
    "colab": {},
    "colab_type": "code",
    "id": "i-oI--sJehcb"
   },
   "outputs": [],
   "source": [
    "price_train = (x_train['price'].values.reshape(-1,1))\n",
    "price_test = (x_test['price'].values.reshape(-1,1))\n",
    "quantity_train =(x_train['quantity'].values.reshape(-1,1))\n",
    "quantity_test = (x_test['quantity'].values.reshape(-1,1))\n",
    "prev_projects_train = (x_train['teacher_number_of_previously_posted_projects'].values.reshape(-1,1))\n",
    "prev_projects_test = (x_test['teacher_number_of_previously_posted_projects'].values.reshape(-1,1))\n",
    "essay_sent_pos_train = (x_train['pos'].values.reshape(-1,1))\n",
    "essay_sent_pos_test = (x_test['pos'].values.reshape(-1,1))\n",
    "essay_sent_neg_train = (x_train['neg'].values.reshape(-1,1))\n",
    "essay_sent_neg_test = (x_test['neg'].values.reshape(-1,1))\n",
    "essay_sent_neu_train = (x_train['neu'].values.reshape(-1,1))\n",
    "essay_sent_neu_test = (x_test['neu'].values.reshape(-1,1))\n",
    "essay_sent_comp_train = (x_train['compound'].values.reshape(-1,1))\n",
    "essay_sent_comp_test = (x_test['compound'].values.reshape(-1,1))"
   ]
  },
  {
   "cell_type": "markdown",
   "metadata": {
    "colab_type": "text",
    "id": "IHuH8NhhKfPb"
   },
   "source": [
    "  <li><strong>school_state</strong> : categorical data</li>\n",
    "                <li><strong>clean_categories</strong> : categorical data</li>\n",
    "                <li><strong>clean_subcategories</strong> : categorical data</li>\n",
    "                <li><strong>project_grade_category</strong> :categorical data</li>\n",
    "                <li><strong>teacher_prefix</strong> : categorical data</li>\n",
    "                <li><strong>quantity</strong> : numerical data</li>\n",
    "                <li><strong>teacher_number_of_previously_posted_projects</strong> : numerical data</li>\n",
    "                <li><strong>price</strong> : numerical data</li>\n",
    "                <li><strong>sentiment score's of each of the essay</strong> : numerical data</li>\n",
    "                <li><strong>number of words in the title</strong> : numerical data</li>\n",
    "                <li><strong>number of words in the combine essays</strong> : numerical data</li>"
   ]
  },
  {
   "cell_type": "code",
   "execution_count": 0,
   "metadata": {
    "colab": {},
    "colab_type": "code",
    "id": "hspQOPvvJ-Jp"
   },
   "outputs": [],
   "source": [
    "x_train_onehot2 = hstack((x_train_onehot,price_train,quantity_train,essay_sent_pos_train,essay_sent_neg_train,essay_sent_neu_train,essay_sent_comp_train))"
   ]
  },
  {
   "cell_type": "code",
   "execution_count": 0,
   "metadata": {
    "colab": {},
    "colab_type": "code",
    "id": "uhyaGgZENElo"
   },
   "outputs": [],
   "source": [
    "x_test_onehot2 = hstack((x_test_onehot,price_test,quantity_test,essay_sent_pos_test,essay_sent_neg_test,essay_sent_neu_test,essay_sent_comp_test))"
   ]
  },
  {
   "cell_type": "code",
   "execution_count": 145,
   "metadata": {
    "colab": {
     "base_uri": "https://localhost:8080/",
     "height": 85
    },
    "colab_type": "code",
    "id": "tJ6V2EvKhzVN",
    "outputId": "a49b5e1b-bb60-4692-e896-6917c12bb9f4"
   },
   "outputs": [
    {
     "name": "stdout",
     "output_type": "stream",
     "text": [
      "Fitting 10 folds for each of 20 candidates, totalling 200 fits\n"
     ]
    },
    {
     "name": "stderr",
     "output_type": "stream",
     "text": [
      "[Parallel(n_jobs=1)]: Using backend SequentialBackend with 1 concurrent workers.\n",
      "[Parallel(n_jobs=1)]: Done 200 out of 200 | elapsed:  2.7min finished\n"
     ]
    },
    {
     "name": "stdout",
     "output_type": "stream",
     "text": [
      "Best alpha:  0.005  BEST SCORE:  0.5192456073563991\n"
     ]
    }
   ],
   "source": [
    "from sklearn.model_selection import GridSearchCV\n",
    "lor_t2 = SGDClassifier(loss=\"log\")\n",
    "parameters = {'alpha':[0.00001, 0.00005, 0.0001, 0.0005, 0.001, 0.005, 0.01, 0.05, 0.1, 0.5, 1, 5, 10, 50, 100, 500, 1000, 2500, 5000, 10000]}\n",
    "clf = GridSearchCV(lor_t2, parameters, cv= 10, scoring='roc_auc',verbose=1,return_train_score=True)\n",
    "clf.fit(x_train_onehot2,y_train)\n",
    "train_auc= clf.cv_results_['mean_train_score']\n",
    "train_auc_std= clf.cv_results_['std_train_score']\n",
    "cv_auc = clf.cv_results_['mean_test_score']\n",
    "cv_auc_std= clf.cv_results_['std_test_score']\n",
    "bestAlpha_4=clf.best_params_['alpha']\n",
    "bestScore_4=clf.best_score_\n",
    "print(\"Best alpha: \",clf.best_params_['alpha'],\" BEST SCORE: \",clf.best_score_)"
   ]
  },
  {
   "cell_type": "code",
   "execution_count": 146,
   "metadata": {
    "colab": {
     "base_uri": "https://localhost:8080/",
     "height": 369
    },
    "colab_type": "code",
    "id": "lIbifkb_ijIQ",
    "outputId": "b1528263-3627-4830-d0fa-98af34df998f"
   },
   "outputs": [
    {
     "data": {
      "image/png": "[encoded data removed]",
      "text/plain": [
       "<Figure size 720x360 with 1 Axes>"
      ]
     },
     "metadata": {
      "tags": []
     },
     "output_type": "display_data"
    }
   ],
   "source": [
    "alphas = [0.00001, 0.00005, 0.0001, 0.0005, 0.001, 0.002, 0.003, 0.005, 0.006, 0.007, 0.008, 0.009, 0.010, 0.02, 0.03, 0.04, 0.05, 0.06, 0.07, 0.08]\n",
    "plt.figure(figsize=(10,5))\n",
    "plt.plot(alphas, train_auc, label='Train AUC')\n",
    "plt.gca().fill_between(alphas,train_auc - train_auc_std,train_auc + train_auc_std,alpha=0.3,color='darkblue')\n",
    "plt.plot(alphas, cv_auc, label='CV AUC')\n",
    "plt.gca().fill_between(alphas,cv_auc - cv_auc_std,cv_auc + cv_auc_std,alpha=0.3,color='darkorange')\n",
    "plt.scatter(alphas, train_auc, label='Train AUC points')\n",
    "plt.scatter(alphas, cv_auc, label='CV AUC points')\n",
    "plt.legend()\n",
    "plt.xlabel(\"alpha: hyperparameter\")\n",
    "plt.ylabel(\"AUC\")\n",
    "plt.title(\"alpha: hyperparameter v/s AUC\")\n",
    "plt.grid()\n",
    "plt.show()"
   ]
  },
  {
   "cell_type": "code",
   "execution_count": 147,
   "metadata": {
    "colab": {
     "base_uri": "https://localhost:8080/",
     "height": 315
    },
    "colab_type": "code",
    "id": "X2nSDTkfjXEP",
    "outputId": "f4cc566d-d8ce-4cc3-fa4c-5a02359136b3"
   },
   "outputs": [
    {
     "data": {
      "image/png": "[encoded data removed]",
      "text/plain": [
       "<Figure size 432x288 with 1 Axes>"
      ]
     },
     "metadata": {
      "tags": []
     },
     "output_type": "display_data"
    }
   ],
   "source": [
    "lor_t2 = SGDClassifier(alpha=bestAlpha_4,loss=\"log\")\n",
    "lor_t2.fit(x_train_onehot2, y_train)\n",
    "y_train_pred=lor_t2.predict_proba(x_train_onehot2)[:,1]\n",
    "y_test_pred=lor_t2.predict_proba(x_test_onehot2)[:,1]\n",
    "train_fpr, train_tpr, tr_thresholds = roc_curve(y_train, y_train_pred)\n",
    "test_fpr, test_tpr, te_thresholds = roc_curve(y_test, y_test_pred)\n",
    "ax = plt.subplot()\n",
    "auc_set1_train=auc(train_fpr, train_tpr)\n",
    "auc_set1_test=auc(test_fpr, test_tpr)\n",
    "ax.plot(train_fpr, train_tpr, label=\"Train AUC =\"+str(auc(train_fpr, train_tpr)))\n",
    "ax.plot(test_fpr, test_tpr, label=\"Test AUC =\"+str(auc(test_fpr, test_tpr)))\n",
    "plt.legend()\n",
    "plt.xlabel(\"False Positive Rate(FPR)\")\n",
    "plt.ylabel(\"True Positive Rate(TPR)\")\n",
    "plt.title(\"AUC\")\n",
    "plt.grid(b=True, which='major', color='k', linestyle=':')\n",
    "ax.set_facecolor(\"white\")\n",
    "plt.show()"
   ]
  },
  {
   "cell_type": "code",
   "execution_count": 0,
   "metadata": {
    "colab": {},
    "colab_type": "code",
    "id": "E6vML41SkB__"
   },
   "outputs": [],
   "source": [
    "def predict(proba, threshould, fpr, tpr):\n",
    "    t = threshould[np.argmax(tpr*(1-fpr))]\n",
    "    print(\"the maximum value of tpr*(1-fpr)\", max(tpr*(1-fpr)), \"for threshold\", np.round(t,3))\n",
    "    predictions = []\n",
    "    for i in proba:\n",
    "        if i>=t:\n",
    "            predictions.append(1)\n",
    "        else:\n",
    "            predictions.append(0)\n",
    "    return predictions"
   ]
  },
  {
   "cell_type": "code",
   "execution_count": 149,
   "metadata": {
    "colab": {
     "base_uri": "https://localhost:8080/",
     "height": 375
    },
    "colab_type": "code",
    "id": "JS9W0BNSkK2b",
    "outputId": "d402b491-a27b-4089-af7e-f508a2542e03"
   },
   "outputs": [
    {
     "name": "stdout",
     "output_type": "stream",
     "text": [
      "Train confusion matrix\n",
      "the maximum value of tpr*(1-fpr) 0.213948881954738 for threshold 0.948\n",
      "[[ 5650  7584]\n",
      " [36997 37165]]\n",
      "the maximum value of tpr*(1-fpr) 0.213948881954738 for threshold 0.948\n"
     ]
    },
    {
     "data": {
      "text/plain": [
       "<matplotlib.axes._subplots.AxesSubplot at 0x7f154aca5630>"
      ]
     },
     "execution_count": 149,
     "metadata": {
      "tags": []
     },
     "output_type": "execute_result"
    },
    {
     "data": {
      "image/png": "[encoded data removed]",
      "text/plain": [
       "<Figure size 432x288 with 2 Axes>"
      ]
     },
     "metadata": {
      "tags": []
     },
     "output_type": "display_data"
    }
   ],
   "source": [
    "#training confusion matrix\n",
    "from sklearn.metrics import confusion_matrix\n",
    "print(\"Train confusion matrix\")\n",
    "print(confusion_matrix(y_train, predict(y_train_pred, tr_thresholds, train_fpr, train_tpr)))\n",
    "conf_matr_df_train = pd.DataFrame(confusion_matrix(y_train, predict(y_train_pred, tr_thresholds,train_fpr, train_tpr)), range(2),range(2))\n",
    "sns.set(font_scale=1.4)#for label size\n",
    "sns.heatmap(conf_matr_df_train, annot=True,annot_kws={\"size\": 26}, fmt='g',cmap=\"YlGnBu\")"
   ]
  },
  {
   "cell_type": "code",
   "execution_count": 150,
   "metadata": {
    "colab": {
     "base_uri": "https://localhost:8080/",
     "height": 375
    },
    "colab_type": "code",
    "id": "jHnyR5G-kK0A",
    "outputId": "7d9ae3ed-2602-40c5-d110-9dd65f55f377"
   },
   "outputs": [
    {
     "name": "stdout",
     "output_type": "stream",
     "text": [
      "Test confusion matrix\n",
      "the maximum value of tpr*(1-fpr) 0.21569575176606215 for threshold 0.99\n",
      "[[ 2831   477]\n",
      " [16791  1750]]\n",
      "the maximum value of tpr*(1-fpr) 0.21569575176606215 for threshold 0.99\n"
     ]
    },
    {
     "data": {
      "text/plain": [
       "<matplotlib.axes._subplots.AxesSubplot at 0x7f153a746748>"
      ]
     },
     "execution_count": 150,
     "metadata": {
      "tags": []
     },
     "output_type": "execute_result"
    },
    {
     "data": {
      "image/png": "[encoded data removed]",
      "text/plain": [
       "<Figure size 432x288 with 2 Axes>"
      ]
     },
     "metadata": {
      "tags": []
     },
     "output_type": "display_data"
    }
   ],
   "source": [
    "#test Confusion Matrix\n",
    "print(\"Test confusion matrix\")\n",
    "print(confusion_matrix(y_test, predict(y_test_pred, tr_thresholds, test_fpr, test_tpr)))\n",
    "conf_matr_df_test = pd.DataFrame(confusion_matrix(y_test, predict(y_test_pred, tr_thresholds, test_fpr, test_tpr)), range(2),range(2))\n",
    "sns.set(font_scale=1.4)#for label size\n",
    "sns.heatmap(conf_matr_df_test, annot=True,annot_kws={\"size\": 26}, fmt='g' ,cmap='YlGnBu')"
   ]
  },
  {
   "cell_type": "code",
   "execution_count": 155,
   "metadata": {
    "colab": {
     "base_uri": "https://localhost:8080/",
     "height": 170
    },
    "colab_type": "code",
    "id": "fLSIKXM5kKYh",
    "outputId": "d445027c-6f00-4aeb-b944-a0e7a683f604"
   },
   "outputs": [
    {
     "name": "stdout",
     "output_type": "stream",
     "text": [
      "+--------------------+---------------------+-----------------------+------+\n",
      "|     Vectorizer     |        Model        | Alpha:Hyper Parameter | AUC  |\n",
      "+--------------------+---------------------+-----------------------+------+\n",
      "|        BOW         | Logistic Regression |         0.001         | 0.68 |\n",
      "|       TFIDF        | Logistic Regression |         1e-05         | 0.65 |\n",
      "|      AVG W2V       | Logistic Regression |         5e-05         | 0.64 |\n",
      "|     TFIDF W2V      | Logistic Regression |         0.0001        | 0.65 |\n",
      "| numerical features | Logistic Regression |         0.005         | 0.51 |\n",
      "+--------------------+---------------------+-----------------------+------+\n"
     ]
    }
   ],
   "source": [
    "from prettytable import PrettyTable\n",
    "\n",
    "x = PrettyTable()\n",
    "x.field_names = [\"Vectorizer\", \"Model\", \"Alpha:Hyper Parameter\", \"AUC\"]\n",
    "x.add_row([\"BOW\", \"Logistic Regression\", 0.001, 0.68])\n",
    "x.add_row([\"TFIDF\", \"Logistic Regression\", 0.00001, 0.65])\n",
    "x.add_row([\"AVG W2V\", \"Logistic Regression\", 0.00005, 0.64])\n",
    "x.add_row([\"TFIDF W2V\", \"Logistic Regression\", 0.0001, 0.65])\n",
    "x.add_row([\"numerical features\", \"Logistic Regression\", 0.005, 0.51])\n",
    "print(x)"
   ]
  },
  {
   "cell_type": "code",
   "execution_count": null,
   "metadata": {},
   "outputs": [],
   "source": []
  }
 ],
 "metadata": {
  "colab": {
   "collapsed_sections": [],
   "name": "LogesticRegressionAssignment.ipynb",
   "provenance": []
  },
  "kernelspec": {
   "display_name": "Python 3",
   "language": "python",
   "name": "python3"
  },
  "language_info": {
   "codemirror_mode": {
    "name": "ipython",
    "version": 3
   },
   "file_extension": ".py",
   "mimetype": "text/x-python",
   "name": "python",
   "nbconvert_exporter": "python",
   "pygments_lexer": "ipython3",
   "version": "3.7.2"
  }
 },
 "nbformat": 4,
 "nbformat_minor": 1
}
